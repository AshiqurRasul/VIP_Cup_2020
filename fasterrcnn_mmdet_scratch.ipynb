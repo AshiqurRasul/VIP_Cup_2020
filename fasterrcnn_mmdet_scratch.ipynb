{
  "nbformat": 4,
  "nbformat_minor": 0,
  "metadata": {
    "colab": {
      "name": "fasterrcnn_mmdet_scratch.ipynb",
      "provenance": [],
      "collapsed_sections": []
    },
    "kernelspec": {
      "name": "python3",
      "display_name": "Python 3"
    },
    "accelerator": "GPU"
  },
  "cells": [
    {
      "cell_type": "code",
      "metadata": {
        "id": "G5WHQLBJS2wK"
      },
      "source": [
        "%cp '/content/drive/My Drive/ICIP2020-fisheye-dataset-30072020.zip' '/content'"
      ],
      "execution_count": null,
      "outputs": []
    },
    {
      "cell_type": "code",
      "metadata": {
        "id": "mhifnDz8Yh19"
      },
      "source": [
        "from zipfile import ZipFile\n",
        "\n",
        "with ZipFile('/content/ICIP2020-fisheye-dataset-30072020.zip', 'r') as zip_ref:\n",
        "    zip_ref.extractall()"
      ],
      "execution_count": null,
      "outputs": []
    },
    {
      "cell_type": "code",
      "metadata": {
        "id": "iWwLD6zJYkjt"
      },
      "source": [
        "import os\n",
        "\n",
        "os.mkdir('/content/vip data')\n",
        "os.mkdir('/content/vip data/train')\n",
        "os.mkdir('/content/vip data/test')\n",
        "\n",
        "os.mkdir('/content/vip data/train/images')\n",
        "os.mkdir('/content/vip data/train/labels')\n",
        "\n",
        "os.mkdir('/content/vip data/test/images')\n",
        "os.mkdir('/content/vip data/test/labels')"
      ],
      "execution_count": null,
      "outputs": []
    },
    {
      "cell_type": "code",
      "metadata": {
        "id": "dyuQDfIjYo2G",
        "colab": {
          "base_uri": "https://localhost:8080/",
          "height": 84
        },
        "outputId": "3b9c06cf-de0b-4cd3-ca4c-daa82f9bb2bd"
      },
      "source": [
        "from tqdm import tqdm\n",
        "import shutil\n",
        "\n",
        "folder_list = ['/content/fisheye-day-30072020', '/content/fisheye-day-test-30072020', '/content/fisheye-night-30072020', '/content/fisheye-night-test-30072020']\n",
        "\n",
        "for p in folder_list:\n",
        "    if p == '/content/fisheye-day-30072020':\n",
        "        img_source_path = '/content/fisheye-day-30072020/images/train'\n",
        "        label_source_path = '/content/fisheye-day-30072020/labels/train'\n",
        "    else:\n",
        "        img_source_path = os.path.join(p, 'images')\n",
        "        label_source_path = os.path.join(p, 'labels')\n",
        "\n",
        "    image_list = os.listdir(img_source_path)\n",
        "    label_list = os.listdir(label_source_path)\n",
        "    if 'test' in p:\n",
        "        dest_root = '/content/vip data/test'\n",
        "    else:\n",
        "        dest_root = '/content/vip data/train'\n",
        "\n",
        "    for i in tqdm(range(len(image_list))):\n",
        "\n",
        "        image_path = os.path.join(img_source_path, image_list[i])\n",
        "        label_path = os.path.join(label_source_path, label_list[i])\n",
        "\n",
        "        img_dest_path = os.path.join(dest_root,'images',image_list[i])\n",
        "        label_dest_path = os.path.join(dest_root, 'labels', label_list[i])\n",
        "\n",
        "        shutil.move(image_path, img_dest_path)\n",
        "        shutil.move(label_path, label_dest_path)"
      ],
      "execution_count": null,
      "outputs": [
        {
          "output_type": "stream",
          "text": [
            "100%|██████████| 20323/20323 [00:01<00:00, 11297.46it/s]\n",
            "100%|██████████| 1660/1660 [00:00<00:00, 11910.40it/s]\n",
            "100%|██████████| 9436/9436 [00:00<00:00, 13516.60it/s]\n",
            "100%|██████████| 1166/1166 [00:00<00:00, 14353.18it/s]\n"
          ],
          "name": "stderr"
        }
      ]
    },
    {
      "cell_type": "code",
      "metadata": {
        "id": "eMuFz29nZsr7"
      },
      "source": [
        "%%capture\n",
        "!python3 coco_annotation_generator.py --image_source_path '/content/vip data/train/images' --label_source_path '/content/vip data/train/labels' --save_path '/content' --file_name 'coco_annotation_train.json' --library 'mmdet'"
      ],
      "execution_count": null,
      "outputs": []
    },
    {
      "cell_type": "code",
      "metadata": {
        "id": "1XKDvBiQZ9Mz"
      },
      "source": [
        "%%capture\n",
        "!python3 coco_annotation_generator.py --image_source_path '/content/vip data/test/images' --label_source_path '/content/vip data/test/labels' --save_path '/content' --file_name 'coco_annotation_test.json' --library 'mmdet'"
      ],
      "execution_count": null,
      "outputs": []
    },
    {
      "cell_type": "code",
      "metadata": {
        "id": "lBQ7w4OR86mr"
      },
      "source": [
        "!pip install \"git+https://github.com/open-mmlab/cocoapi.git#subdirectory=pycocotools\"\n",
        "!pip install -U torch==1.5.1+cu101 torchvision==0.6.1+cu101 -f https://download.pytorch.org/whl/torch_stable.html\n",
        "!pip install mmcv-full==latest+torch1.5.0+cu101 -f https://openmmlab.oss-accelerate.aliyuncs.com/mmcv/dist/index.html\n",
        "\n",
        "!rm -rf mmdetection\n",
        "!git clone --branch v2.2.1 https://github.com/open-mmlab/mmdetection.git\n",
        "%cd mmdetection\n",
        "!pip install -e .\n",
        "\n",
        "# intsall pillow back to avoid bug in colab\n",
        "!pip install Pillow==7.0.0"
      ],
      "execution_count": null,
      "outputs": []
    },
    {
      "cell_type": "code",
      "metadata": {
        "id": "ELEWwfbfLBIQ",
        "colab": {
          "base_uri": "https://localhost:8080/",
          "height": 168
        },
        "outputId": "2f0ba14f-eb92-4675-d977-626af8e07642"
      },
      "source": [
        "# Check nvcc version\n",
        "!nvcc -V\n",
        "# Check GCC version\n",
        "!gcc --version"
      ],
      "execution_count": null,
      "outputs": [
        {
          "output_type": "stream",
          "text": [
            "nvcc: NVIDIA (R) Cuda compiler driver\n",
            "Copyright (c) 2005-2019 NVIDIA Corporation\n",
            "Built on Sun_Jul_28_19:07:16_PDT_2019\n",
            "Cuda compilation tools, release 10.1, V10.1.243\n",
            "gcc (Ubuntu 7.5.0-3ubuntu1~18.04) 7.5.0\n",
            "Copyright (C) 2017 Free Software Foundation, Inc.\n",
            "This is free software; see the source for copying conditions.  There is NO\n",
            "warranty; not even for MERCHANTABILITY or FITNESS FOR A PARTICULAR PURPOSE.\n",
            "\n"
          ],
          "name": "stdout"
        }
      ]
    },
    {
      "cell_type": "code",
      "metadata": {
        "id": "sQZpHKr2LGbf",
        "colab": {
          "base_uri": "https://localhost:8080/",
          "height": 1000
        },
        "outputId": "3febdc45-793c-4411-d322-c6b446f5f896"
      },
      "source": [
        "# install dependencies: (use cu101 because colab has CUDA 10.1)\n",
        "!pip install -U torch==1.5.1+cu101 torchvision==0.6.1+cu101 -f https://download.pytorch.org/whl/torch_stable.html\n",
        "\n",
        "# install mmcv-full thus we could use CUDA operators\n",
        "!pip install mmcv-full\n",
        "\n",
        "# Install mmdetection\n",
        "!rm -rf mmdetection\n",
        "!git clone https://github.com/open-mmlab/mmdetection.git\n",
        "%cd mmdetection\n",
        "\n",
        "!pip install -e .\n",
        "\n",
        "# install Pillow 7.0.0 back in order to avoid bug in colab\n",
        "!pip install Pillow==7.0.0"
      ],
      "execution_count": null,
      "outputs": [
        {
          "output_type": "stream",
          "text": [
            "Looking in links: https://download.pytorch.org/whl/torch_stable.html\n",
            "Collecting torch==1.5.1+cu101\n",
            "\u001b[?25l  Downloading https://download.pytorch.org/whl/cu101/torch-1.5.1%2Bcu101-cp36-cp36m-linux_x86_64.whl (704.4MB)\n",
            "\u001b[K     |████████████████████████████████| 704.4MB 27kB/s \n",
            "\u001b[?25hCollecting torchvision==0.6.1+cu101\n",
            "\u001b[?25l  Downloading https://download.pytorch.org/whl/cu101/torchvision-0.6.1%2Bcu101-cp36-cp36m-linux_x86_64.whl (6.6MB)\n",
            "\u001b[K     |████████████████████████████████| 6.6MB 41.6MB/s \n",
            "\u001b[?25hRequirement already satisfied, skipping upgrade: numpy in /usr/local/lib/python3.6/dist-packages (from torch==1.5.1+cu101) (1.18.5)\n",
            "Requirement already satisfied, skipping upgrade: future in /usr/local/lib/python3.6/dist-packages (from torch==1.5.1+cu101) (0.16.0)\n",
            "Requirement already satisfied, skipping upgrade: pillow>=4.1.1 in /usr/local/lib/python3.6/dist-packages (from torchvision==0.6.1+cu101) (7.0.0)\n",
            "Installing collected packages: torch, torchvision\n",
            "  Found existing installation: torch 1.6.0+cu101\n",
            "    Uninstalling torch-1.6.0+cu101:\n",
            "      Successfully uninstalled torch-1.6.0+cu101\n",
            "  Found existing installation: torchvision 0.7.0+cu101\n",
            "    Uninstalling torchvision-0.7.0+cu101:\n",
            "      Successfully uninstalled torchvision-0.7.0+cu101\n",
            "Successfully installed torch-1.5.1+cu101 torchvision-0.6.1+cu101\n",
            "Collecting mmcv-full\n",
            "\u001b[?25l  Downloading https://files.pythonhosted.org/packages/81/21/ac881594427f879bc35a0803ad1159c287ebc85b273618fcc622192d7291/mmcv-full-1.0.5.tar.gz (233kB)\n",
            "\u001b[K     |████████████████████████████████| 235kB 5.8MB/s \n",
            "\u001b[?25hCollecting addict\n",
            "  Downloading https://files.pythonhosted.org/packages/14/6f/beb258220417c1a0fe11e842f2e012a1be7eeeaa72a1d10ba17a804da367/addict-2.2.1-py3-none-any.whl\n",
            "Requirement already satisfied: numpy in /usr/local/lib/python3.6/dist-packages (from mmcv-full) (1.18.5)\n",
            "Requirement already satisfied: pyyaml in /usr/local/lib/python3.6/dist-packages (from mmcv-full) (3.13)\n",
            "Collecting yapf\n",
            "\u001b[?25l  Downloading https://files.pythonhosted.org/packages/c1/5d/d84677fe852bc5e091739acda444a9b6700ffc6b11a21b00dd244c8caef0/yapf-0.30.0-py2.py3-none-any.whl (190kB)\n",
            "\u001b[K     |████████████████████████████████| 194kB 12.8MB/s \n",
            "\u001b[?25hRequirement already satisfied: opencv-python>=3 in /usr/local/lib/python3.6/dist-packages (from mmcv-full) (4.1.2.30)\n",
            "Building wheels for collected packages: mmcv-full\n",
            "  Building wheel for mmcv-full (setup.py) ... \u001b[?25l\u001b[?25hdone\n",
            "  Created wheel for mmcv-full: filename=mmcv_full-1.0.5-cp36-cp36m-linux_x86_64.whl size=16191791 sha256=d43d4ee489c08371de01f022b17235436448ff48a88052bc51d9bbdeb784e50b\n",
            "  Stored in directory: /root/.cache/pip/wheels/6b/63/58/2d7cf7e1eef88c034073cc7219fe39e9f2acc1bf4081db7a61\n",
            "Successfully built mmcv-full\n",
            "Installing collected packages: addict, yapf, mmcv-full\n",
            "Successfully installed addict-2.2.1 mmcv-full-1.0.5 yapf-0.30.0\n",
            "Cloning into 'mmdetection'...\n",
            "remote: Enumerating objects: 6, done.\u001b[K\n",
            "remote: Counting objects: 100% (6/6), done.\u001b[K\n",
            "remote: Compressing objects: 100% (6/6), done.\u001b[K\n",
            "remote: Total 12659 (delta 0), reused 5 (delta 0), pack-reused 12653\u001b[K\n",
            "Receiving objects: 100% (12659/12659), 13.54 MiB | 1.88 MiB/s, done.\n",
            "Resolving deltas: 100% (8509/8509), done.\n",
            "/content/mmdetection\n",
            "Obtaining file:///content/mmdetection\n",
            "Requirement already satisfied: matplotlib in /usr/local/lib/python3.6/dist-packages (from mmdet==2.3.0) (3.2.2)\n",
            "Requirement already satisfied: numpy in /usr/local/lib/python3.6/dist-packages (from mmdet==2.3.0) (1.18.5)\n",
            "Requirement already satisfied: pycocotools@ git+https://github.com/open-mmlab/cocoapi.git#subdirectory=pycocotools from git+https://github.com/open-mmlab/cocoapi.git#subdirectory=pycocotools in /usr/local/lib/python3.6/dist-packages (from mmdet==2.3.0) (2.0.1)\n",
            "Requirement already satisfied: six in /usr/local/lib/python3.6/dist-packages (from mmdet==2.3.0) (1.15.0)\n",
            "Collecting terminaltables\n",
            "  Downloading https://files.pythonhosted.org/packages/9b/c4/4a21174f32f8a7e1104798c445dacdc1d4df86f2f26722767034e4de4bff/terminaltables-3.1.0.tar.gz\n",
            "Requirement already satisfied: kiwisolver>=1.0.1 in /usr/local/lib/python3.6/dist-packages (from matplotlib->mmdet==2.3.0) (1.2.0)\n",
            "Requirement already satisfied: cycler>=0.10 in /usr/local/lib/python3.6/dist-packages (from matplotlib->mmdet==2.3.0) (0.10.0)\n",
            "Requirement already satisfied: python-dateutil>=2.1 in /usr/local/lib/python3.6/dist-packages (from matplotlib->mmdet==2.3.0) (2.8.1)\n",
            "Requirement already satisfied: pyparsing!=2.0.4,!=2.1.2,!=2.1.6,>=2.0.1 in /usr/local/lib/python3.6/dist-packages (from matplotlib->mmdet==2.3.0) (2.4.7)\n",
            "Requirement already satisfied: setuptools>=18.0 in /usr/local/lib/python3.6/dist-packages (from pycocotools@ git+https://github.com/open-mmlab/cocoapi.git#subdirectory=pycocotools->mmdet==2.3.0) (49.2.0)\n",
            "Requirement already satisfied: cython>=0.27.3 in /usr/local/lib/python3.6/dist-packages (from pycocotools@ git+https://github.com/open-mmlab/cocoapi.git#subdirectory=pycocotools->mmdet==2.3.0) (0.29.21)\n",
            "Building wheels for collected packages: terminaltables\n",
            "  Building wheel for terminaltables (setup.py) ... \u001b[?25l\u001b[?25hdone\n",
            "  Created wheel for terminaltables: filename=terminaltables-3.1.0-cp36-none-any.whl size=15356 sha256=85d17b46ce7ed87a3d93c4109c1c23e0da51424500c6ff63465b385cb48954c5\n",
            "  Stored in directory: /root/.cache/pip/wheels/30/6b/50/6c75775b681fb36cdfac7f19799888ef9d8813aff9e379663e\n",
            "Successfully built terminaltables\n",
            "Installing collected packages: terminaltables, mmdet\n",
            "  Running setup.py develop for mmdet\n",
            "Successfully installed mmdet terminaltables-3.1.0\n",
            "Requirement already satisfied: Pillow==7.0.0 in /usr/local/lib/python3.6/dist-packages (7.0.0)\n"
          ],
          "name": "stdout"
        }
      ]
    },
    {
      "cell_type": "code",
      "metadata": {
        "id": "fpY4u_r-uYpE",
        "colab": {
          "base_uri": "https://localhost:8080/",
          "height": 406
        },
        "outputId": "9ce9334e-0ca1-4480-d4f4-3adc8f55a18a"
      },
      "source": [
        "!pip install -U \"git+https://github.com/open-mmlab/cocoapi.git#subdirectory=pycocotools\""
      ],
      "execution_count": null,
      "outputs": [
        {
          "output_type": "stream",
          "text": [
            "Collecting git+https://github.com/open-mmlab/cocoapi.git#subdirectory=pycocotools\n",
            "  Cloning https://github.com/open-mmlab/cocoapi.git to /tmp/pip-req-build-4yctoiyr\n",
            "  Running command git clone -q https://github.com/open-mmlab/cocoapi.git /tmp/pip-req-build-4yctoiyr\n",
            "Requirement already satisfied, skipping upgrade: setuptools>=18.0 in /usr/local/lib/python3.6/dist-packages (from pycocotools==12.0) (49.2.0)\n",
            "Requirement already satisfied, skipping upgrade: cython>=0.27.3 in /usr/local/lib/python3.6/dist-packages (from pycocotools==12.0) (0.29.21)\n",
            "Requirement already satisfied, skipping upgrade: matplotlib>=2.1.0 in /usr/local/lib/python3.6/dist-packages (from pycocotools==12.0) (3.2.2)\n",
            "Requirement already satisfied, skipping upgrade: cycler>=0.10 in /usr/local/lib/python3.6/dist-packages (from matplotlib>=2.1.0->pycocotools==12.0) (0.10.0)\n",
            "Requirement already satisfied, skipping upgrade: kiwisolver>=1.0.1 in /usr/local/lib/python3.6/dist-packages (from matplotlib>=2.1.0->pycocotools==12.0) (1.2.0)\n",
            "Requirement already satisfied, skipping upgrade: pyparsing!=2.0.4,!=2.1.2,!=2.1.6,>=2.0.1 in /usr/local/lib/python3.6/dist-packages (from matplotlib>=2.1.0->pycocotools==12.0) (2.4.7)\n",
            "Requirement already satisfied, skipping upgrade: numpy>=1.11 in /usr/local/lib/python3.6/dist-packages (from matplotlib>=2.1.0->pycocotools==12.0) (1.18.5)\n",
            "Requirement already satisfied, skipping upgrade: python-dateutil>=2.1 in /usr/local/lib/python3.6/dist-packages (from matplotlib>=2.1.0->pycocotools==12.0) (2.8.1)\n",
            "Requirement already satisfied, skipping upgrade: six in /usr/local/lib/python3.6/dist-packages (from cycler>=0.10->matplotlib>=2.1.0->pycocotools==12.0) (1.15.0)\n",
            "Building wheels for collected packages: pycocotools\n",
            "  Building wheel for pycocotools (setup.py) ... \u001b[?25l\u001b[?25hdone\n",
            "  Created wheel for pycocotools: filename=pycocotools-12.0-cp36-cp36m-linux_x86_64.whl size=266735 sha256=76ed1e061383c1272150f9821e98f0d515cc75059b594019b2cc4783b2f767df\n",
            "  Stored in directory: /tmp/pip-ephem-wheel-cache-4lh0a8hj/wheels/cd/f6/de/018ccc2d175046c612e93b42a169cd1ab7563d61581cfba8df\n",
            "Successfully built pycocotools\n",
            "Installing collected packages: pycocotools\n",
            "  Found existing installation: pycocotools 2.0.1\n",
            "    Uninstalling pycocotools-2.0.1:\n",
            "      Successfully uninstalled pycocotools-2.0.1\n",
            "Successfully installed pycocotools-12.0\n"
          ],
          "name": "stdout"
        }
      ]
    },
    {
      "cell_type": "code",
      "metadata": {
        "id": "y2hsTm8FLVl_",
        "colab": {
          "base_uri": "https://localhost:8080/",
          "height": 138
        },
        "outputId": "4ff45bbe-9ce5-4f2f-e79d-07eabdd8b0f3"
      },
      "source": [
        "# Check Pytorch installation\n",
        "import torch, torchvision\n",
        "print(torch.__version__, torch.cuda.is_available())\n",
        "\n",
        "# Check MMDetection installation\n",
        "import mmdet\n",
        "print(mmdet.__version__)\n",
        "\n",
        "# Check mmcv installation\n",
        "from mmcv.ops import get_compiling_cuda_version, get_compiler_version\n",
        "print(get_compiling_cuda_version())\n",
        "print(get_compiler_version())"
      ],
      "execution_count": null,
      "outputs": [
        {
          "output_type": "stream",
          "text": [
            "1.5.1+cu101 True\n"
          ],
          "name": "stdout"
        },
        {
          "output_type": "stream",
          "text": [
            "/usr/local/lib/python3.6/dist-packages/setuptools/distutils_patch.py:26: UserWarning: Distutils was imported before Setuptools. This usage is discouraged and may exhibit undesirable behaviors or errors. Please use Setuptools' objects directly or at least import Setuptools first.\n",
            "  \"Distutils was imported before Setuptools. This usage is discouraged \"\n"
          ],
          "name": "stderr"
        },
        {
          "output_type": "stream",
          "text": [
            "2.3.0\n",
            "10.1\n",
            "GCC 7.5\n"
          ],
          "name": "stdout"
        }
      ]
    },
    {
      "cell_type": "code",
      "metadata": {
        "id": "rDLK-ubLBsi4",
        "colab": {
          "base_uri": "https://localhost:8080/",
          "height": 34
        },
        "outputId": "4a915cbf-11df-4f84-a7a0-85bbcd0e7f29"
      },
      "source": [
        "%cd '/content/mmdetection'"
      ],
      "execution_count": null,
      "outputs": [
        {
          "output_type": "stream",
          "text": [
            "/content/mmdetection\n"
          ],
          "name": "stdout"
        }
      ]
    },
    {
      "cell_type": "code",
      "metadata": {
        "id": "VrY7ekcABKH5",
        "colab": {
          "base_uri": "https://localhost:8080/",
          "height": 1000
        },
        "outputId": "4e0b4c9c-1a94-4e56-9068-554f0bbd0f18"
      },
      "source": [
        "!python tools/train.py '/content/new_config.py' --seed 42 --deterministic"
      ],
      "execution_count": null,
      "outputs": [
        {
          "output_type": "stream",
          "text": [
            "2020-08-17 14:36:32,296 - mmdet - INFO - Environment info:\n",
            "------------------------------------------------------------\n",
            "sys.platform: linux\n",
            "Python: 3.6.9 (default, Jul 17 2020, 12:50:27) [GCC 8.4.0]\n",
            "CUDA available: True\n",
            "CUDA_HOME: /usr/local/cuda\n",
            "NVCC: Cuda compilation tools, release 10.1, V10.1.243\n",
            "GPU 0: Tesla K80\n",
            "GCC: gcc (Ubuntu 7.5.0-3ubuntu1~18.04) 7.5.0\n",
            "PyTorch: 1.5.1+cu101\n",
            "PyTorch compiling details: PyTorch built with:\n",
            "  - GCC 7.3\n",
            "  - C++ Version: 201402\n",
            "  - Intel(R) Math Kernel Library Version 2019.0.5 Product Build 20190808 for Intel(R) 64 architecture applications\n",
            "  - Intel(R) MKL-DNN v0.21.1 (Git Hash 7d2fd500bc78936d1d648ca713b901012f470dbc)\n",
            "  - OpenMP 201511 (a.k.a. OpenMP 4.5)\n",
            "  - NNPACK is enabled\n",
            "  - CPU capability usage: AVX2\n",
            "  - CUDA Runtime 10.1\n",
            "  - NVCC architecture flags: -gencode;arch=compute_37,code=sm_37;-gencode;arch=compute_50,code=sm_50;-gencode;arch=compute_60,code=sm_60;-gencode;arch=compute_61,code=sm_61;-gencode;arch=compute_70,code=sm_70;-gencode;arch=compute_75,code=sm_75;-gencode;arch=compute_37,code=compute_37\n",
            "  - CuDNN 7.6.3\n",
            "  - Magma 2.5.2\n",
            "  - Build settings: BLAS=MKL, BUILD_TYPE=Release, CXX_FLAGS= -Wno-deprecated -fvisibility-inlines-hidden -fopenmp -DNDEBUG -DUSE_FBGEMM -DUSE_QNNPACK -DUSE_PYTORCH_QNNPACK -DUSE_XNNPACK -DUSE_INTERNAL_THREADPOOL_IMPL -O2 -fPIC -Wno-narrowing -Wall -Wextra -Werror=return-type -Wno-missing-field-initializers -Wno-type-limits -Wno-array-bounds -Wno-unknown-pragmas -Wno-sign-compare -Wno-unused-parameter -Wno-unused-variable -Wno-unused-function -Wno-unused-result -Wno-strict-overflow -Wno-strict-aliasing -Wno-error=deprecated-declarations -Wno-stringop-overflow -Wno-error=pedantic -Wno-error=redundant-decls -Wno-error=old-style-cast -fdiagnostics-color=always -faligned-new -Wno-unused-but-set-variable -Wno-maybe-uninitialized -fno-math-errno -fno-trapping-math -Werror=format -Wno-stringop-overflow, PERF_WITH_AVX=1, PERF_WITH_AVX2=1, PERF_WITH_AVX512=1, USE_CUDA=ON, USE_EXCEPTION_PTR=1, USE_GFLAGS=OFF, USE_GLOG=OFF, USE_MKL=ON, USE_MKLDNN=ON, USE_MPI=OFF, USE_NCCL=ON, USE_NNPACK=ON, USE_OPENMP=ON, USE_STATIC_DISPATCH=OFF, \n",
            "\n",
            "TorchVision: 0.6.1+cu101\n",
            "OpenCV: 4.1.2\n",
            "MMCV: 1.0.5\n",
            "MMDetection: 2.3.0+6acf6be\n",
            "MMDetection Compiler: GCC 7.5\n",
            "MMDetection CUDA Compiler: 10.1\n",
            "------------------------------------------------------------\n",
            "\n",
            "2020-08-17 14:36:32,297 - mmdet - INFO - Distributed training: False\n",
            "2020-08-17 14:36:32,667 - mmdet - INFO - Config:\n",
            "dataset_type = 'CocoDataset'\n",
            "img_norm_cfg = dict(\n",
            "    mean=[81.349, 81.677, 81.0414], std=[56.478, 58.003, 58.226], to_rgb=True)\n",
            "train_pipeline = [\n",
            "    dict(type='LoadImageFromFile'),\n",
            "    dict(type='LoadAnnotations', with_bbox=True),\n",
            "    dict(type='Resize', img_scale=(1333, 800), keep_ratio=True),\n",
            "    dict(type='RandomFlip', flip_ratio=0.5),\n",
            "    dict(\n",
            "        type='Normalize',\n",
            "        mean=[81.349, 81.677, 81.0414],\n",
            "        std=[56.478, 58.003, 58.226],\n",
            "        to_rgb=True),\n",
            "    dict(type='Pad', size_divisor=32),\n",
            "    dict(type='DefaultFormatBundle'),\n",
            "    dict(type='Collect', keys=['img', 'gt_bboxes', 'gt_labels'])\n",
            "]\n",
            "test_pipeline = [\n",
            "    dict(type='LoadImageFromFile'),\n",
            "    dict(\n",
            "        type='MultiScaleFlipAug',\n",
            "        img_scale=(1333, 800),\n",
            "        flip=False,\n",
            "        transforms=[\n",
            "            dict(type='Resize', keep_ratio=True),\n",
            "            dict(type='RandomFlip'),\n",
            "            dict(\n",
            "                type='Normalize',\n",
            "                mean=[81.349, 81.677, 81.0414],\n",
            "                std=[56.478, 58.003, 58.226],\n",
            "                to_rgb=True),\n",
            "            dict(type='Pad', size_divisor=32),\n",
            "            dict(type='ImageToTensor', keys=['img']),\n",
            "            dict(type='Collect', keys=['img'])\n",
            "        ])\n",
            "]\n",
            "data = dict(\n",
            "    samples_per_gpu=2,\n",
            "    workers_per_gpu=2,\n",
            "    train=dict(\n",
            "        type='CocoDataset',\n",
            "        ann_file='/content/coco_annotation_train.json',\n",
            "        img_prefix='/content/vip data/train/images',\n",
            "        pipeline=[\n",
            "            dict(type='LoadImageFromFile'),\n",
            "            dict(type='LoadAnnotations', with_bbox=True),\n",
            "            dict(type='Resize', img_scale=(1333, 800), keep_ratio=True),\n",
            "            dict(type='RandomFlip', flip_ratio=0.5),\n",
            "            dict(\n",
            "                type='Normalize',\n",
            "                mean=[81.349, 81.677, 81.0414],\n",
            "                std=[56.478, 58.003, 58.226],\n",
            "                to_rgb=True),\n",
            "            dict(type='Pad', size_divisor=32),\n",
            "            dict(type='DefaultFormatBundle'),\n",
            "            dict(type='Collect', keys=['img', 'gt_bboxes', 'gt_labels'])\n",
            "        ],\n",
            "        classes=('vehicle', )),\n",
            "    val=dict(\n",
            "        type='CocoDataset',\n",
            "        ann_file='/content/coco_annotation_test.json',\n",
            "        img_prefix='/content/vip data/test/images',\n",
            "        pipeline=[\n",
            "            dict(type='LoadImageFromFile'),\n",
            "            dict(\n",
            "                type='MultiScaleFlipAug',\n",
            "                img_scale=(1333, 800),\n",
            "                flip=False,\n",
            "                transforms=[\n",
            "                    dict(type='Resize', keep_ratio=True),\n",
            "                    dict(type='RandomFlip'),\n",
            "                    dict(\n",
            "                        type='Normalize',\n",
            "                        mean=[81.349, 81.677, 81.0414],\n",
            "                        std=[56.478, 58.003, 58.226],\n",
            "                        to_rgb=True),\n",
            "                    dict(type='Pad', size_divisor=32),\n",
            "                    dict(type='ImageToTensor', keys=['img']),\n",
            "                    dict(type='Collect', keys=['img'])\n",
            "                ])\n",
            "        ],\n",
            "        classes=('vehicle', )),\n",
            "    test=dict(\n",
            "        type='CocoDataset',\n",
            "        ann_file='/content/coco_annotation_test.json',\n",
            "        img_prefix='/content/vip data/test/images',\n",
            "        pipeline=[\n",
            "            dict(type='LoadImageFromFile'),\n",
            "            dict(\n",
            "                type='MultiScaleFlipAug',\n",
            "                img_scale=(1333, 800),\n",
            "                flip=False,\n",
            "                transforms=[\n",
            "                    dict(type='Resize', keep_ratio=True),\n",
            "                    dict(type='RandomFlip'),\n",
            "                    dict(\n",
            "                        type='Normalize',\n",
            "                        mean=[81.349, 81.677, 81.0414],\n",
            "                        std=[56.478, 58.003, 58.226],\n",
            "                        to_rgb=True),\n",
            "                    dict(type='Pad', size_divisor=32),\n",
            "                    dict(type='ImageToTensor', keys=['img']),\n",
            "                    dict(type='Collect', keys=['img'])\n",
            "                ])\n",
            "        ],\n",
            "        classes=('vehicle', )))\n",
            "evaluation = dict(interval=3, metric='bbox')\n",
            "model = dict(\n",
            "    type='FasterRCNN',\n",
            "    pretrained=None,\n",
            "    backbone=dict(\n",
            "        type='ResNeXt',\n",
            "        depth=101,\n",
            "        groups=64,\n",
            "        num_stages=4,\n",
            "        base_width=4,\n",
            "        out_indices=(0, 1, 2, 3),\n",
            "        frozen_stages=1,\n",
            "        norm_cfg=dict(type='GN', requires_grad=True, num_groups=32),\n",
            "        norm_eval=True,\n",
            "        style='pytorch'),\n",
            "    neck=dict(\n",
            "        type='FPN',\n",
            "        in_channels=[256, 512, 1024, 2048],\n",
            "        out_channels=256,\n",
            "        num_outs=5),\n",
            "    rpn_head=dict(\n",
            "        type='RPNHead',\n",
            "        in_channels=256,\n",
            "        feat_channels=256,\n",
            "        anchor_generator=dict(\n",
            "            type='AnchorGenerator',\n",
            "            scales=[8],\n",
            "            ratios=[0.5, 1.0, 2.0],\n",
            "            strides=[4, 8, 16, 32, 64]),\n",
            "        bbox_coder=dict(\n",
            "            type='DeltaXYWHBBoxCoder',\n",
            "            target_means=[0.0, 0.0, 0.0, 0.0],\n",
            "            target_stds=[1.0, 1.0, 1.0, 1.0]),\n",
            "        loss_cls=dict(\n",
            "            type='CrossEntropyLoss', use_sigmoid=True, loss_weight=1.0),\n",
            "        loss_bbox=dict(type='L1Loss', loss_weight=1.0)),\n",
            "    roi_head=dict(\n",
            "        type='StandardRoIHead',\n",
            "        bbox_roi_extractor=dict(\n",
            "            type='SingleRoIExtractor',\n",
            "            roi_layer=dict(type='RoIAlign', output_size=7, sampling_ratio=0),\n",
            "            out_channels=256,\n",
            "            featmap_strides=[4, 8, 16, 32]),\n",
            "        bbox_head=dict(\n",
            "            type='Shared2FCBBoxHead',\n",
            "            in_channels=256,\n",
            "            fc_out_channels=1024,\n",
            "            roi_feat_size=7,\n",
            "            num_classes=1,\n",
            "            bbox_coder=dict(\n",
            "                type='DeltaXYWHBBoxCoder',\n",
            "                target_means=[0.0, 0.0, 0.0, 0.0],\n",
            "                target_stds=[0.1, 0.1, 0.2, 0.2]),\n",
            "            reg_class_agnostic=False,\n",
            "            loss_cls=dict(\n",
            "                type='CrossEntropyLoss', use_sigmoid=False, loss_weight=1.0),\n",
            "            loss_bbox=dict(type='L1Loss', loss_weight=1.0))))\n",
            "train_cfg = dict(\n",
            "    rpn=dict(\n",
            "        assigner=dict(\n",
            "            type='MaxIoUAssigner',\n",
            "            pos_iou_thr=0.7,\n",
            "            neg_iou_thr=0.3,\n",
            "            min_pos_iou=0.3,\n",
            "            match_low_quality=True,\n",
            "            ignore_iof_thr=-1),\n",
            "        sampler=dict(\n",
            "            type='RandomSampler',\n",
            "            num=256,\n",
            "            pos_fraction=0.5,\n",
            "            neg_pos_ub=-1,\n",
            "            add_gt_as_proposals=False),\n",
            "        allowed_border=-1,\n",
            "        pos_weight=-1,\n",
            "        debug=False),\n",
            "    rpn_proposal=dict(\n",
            "        nms_across_levels=False,\n",
            "        nms_pre=2000,\n",
            "        nms_post=1000,\n",
            "        max_num=1000,\n",
            "        nms_thr=0.7,\n",
            "        min_bbox_size=0),\n",
            "    rcnn=dict(\n",
            "        assigner=dict(\n",
            "            type='MaxIoUAssigner',\n",
            "            pos_iou_thr=0.5,\n",
            "            neg_iou_thr=0.5,\n",
            "            min_pos_iou=0.5,\n",
            "            match_low_quality=False,\n",
            "            ignore_iof_thr=-1),\n",
            "        sampler=dict(\n",
            "            type='RandomSampler',\n",
            "            num=512,\n",
            "            pos_fraction=0.25,\n",
            "            neg_pos_ub=-1,\n",
            "            add_gt_as_proposals=True),\n",
            "        pos_weight=-1,\n",
            "        debug=False))\n",
            "test_cfg = dict(\n",
            "    rpn=dict(\n",
            "        nms_across_levels=False,\n",
            "        nms_pre=1000,\n",
            "        nms_post=1000,\n",
            "        max_num=1000,\n",
            "        nms_thr=0.7,\n",
            "        min_bbox_size=0),\n",
            "    rcnn=dict(\n",
            "        score_thr=0.05,\n",
            "        nms=dict(type='nms', iou_threshold=0.5),\n",
            "        max_per_img=60))\n",
            "classes = ('vehicle', )\n",
            "work_dir = '/content/drive/My Drive/faster_rcnn/checkpoints'\n",
            "gpu_ids = range(0, 1)\n",
            "optimizer = dict(type='SGD', lr=0.01, momentum=0.9, weight_decay=0.0001)\n",
            "optimizer_config = dict(grad_clip=None)\n",
            "lr_config = dict(\n",
            "    policy='step',\n",
            "    warmup='linear',\n",
            "    warmup_iters=1000,\n",
            "    warmup_ratio=0.001,\n",
            "    step=[20, 25])\n",
            "total_epochs = 30\n",
            "checkpoint_config = dict(interval=3, create_symlink=False)\n",
            "log_config = dict(\n",
            "    interval=50,\n",
            "    hooks=[dict(type='TextLoggerHook'),\n",
            "           dict(type='TensorboardLoggerHook')])\n",
            "dist_params = dict(backend='nccl')\n",
            "log_level = 'INFO'\n",
            "load_from = None\n",
            "resume_from = None\n",
            "workflow = [('train', 1)]\n",
            "\n",
            "2020-08-17 14:36:32,667 - mmdet - INFO - Set random seed to 42, deterministic: True\n",
            "loading annotations into memory...\n",
            "Done (t=2.16s)\n",
            "creating index...\n",
            "index created!\n",
            "loading annotations into memory...\n",
            "Done (t=0.43s)\n",
            "creating index...\n",
            "index created!\n",
            "2020-08-17 14:36:40,551 - mmdet - INFO - Start running, host: root@f4094a3176bd, work_dir: /content/drive/My Drive/faster_rcnn/checkpoints\n",
            "2020-08-17 14:36:40,552 - mmdet - INFO - workflow: [('train', 1)], max: 30 epochs\n",
            "2020-08-17 14:36:40.838705: I tensorflow/stream_executor/platform/default/dso_loader.cc:48] Successfully opened dynamic library libcudart.so.10.1\n",
            "2020-08-17 14:39:29,543 - mmdet - INFO - Epoch [1][50/14763]\tlr: 4.995e-04, eta: 17 days, 3:40:45, time: 3.347, data_time: 0.053, memory: 8404, loss_rpn_cls: 0.6451, loss_rpn_bbox: 0.1057, loss_cls: 0.2170, acc: 96.9844, loss_bbox: 0.0417, loss: 1.0095\n",
            "2020-08-17 14:42:15,319 - mmdet - INFO - Epoch [1][100/14763]\tlr: 9.990e-04, eta: 17 days, 1:42:59, time: 3.316, data_time: 0.008, memory: 8404, loss_rpn_cls: 0.4702, loss_rpn_bbox: 0.1024, loss_cls: 0.0892, acc: 97.4629, loss_bbox: 0.0209, loss: 0.6827\n",
            "2020-08-17 14:44:57,764 - mmdet - INFO - Epoch [1][150/14763]\tlr: 1.499e-03, eta: 16 days, 22:17:58, time: 3.249, data_time: 0.007, memory: 8404, loss_rpn_cls: 0.3003, loss_rpn_bbox: 0.0954, loss_cls: 0.1892, acc: 94.8926, loss_bbox: 0.1273, loss: 0.7122\n",
            "2020-08-17 14:47:40,196 - mmdet - INFO - Epoch [1][200/14763]\tlr: 1.998e-03, eta: 16 days, 20:33:39, time: 3.249, data_time: 0.007, memory: 8404, loss_rpn_cls: 0.2342, loss_rpn_bbox: 0.0859, loss_cls: 0.1693, acc: 95.2930, loss_bbox: 0.1171, loss: 0.6065\n",
            "2020-08-17 14:50:23,309 - mmdet - INFO - Epoch [1][250/14763]\tlr: 2.498e-03, eta: 16 days, 19:50:03, time: 3.262, data_time: 0.007, memory: 8404, loss_rpn_cls: 0.2148, loss_rpn_bbox: 0.0955, loss_cls: 0.1912, acc: 93.6758, loss_bbox: 0.1744, loss: 0.6759\n",
            "2020-08-17 14:53:06,638 - mmdet - INFO - Epoch [1][300/14763]\tlr: 2.997e-03, eta: 16 days, 19:25:24, time: 3.267, data_time: 0.007, memory: 8404, loss_rpn_cls: 0.1896, loss_rpn_bbox: 0.0844, loss_cls: 0.1736, acc: 94.1777, loss_bbox: 0.1687, loss: 0.6163\n",
            "2020-08-17 14:55:49,701 - mmdet - INFO - Epoch [1][350/14763]\tlr: 3.497e-03, eta: 16 days, 19:01:24, time: 3.261, data_time: 0.007, memory: 8404, loss_rpn_cls: 0.1858, loss_rpn_bbox: 0.0860, loss_cls: 0.1782, acc: 93.8184, loss_bbox: 0.1899, loss: 0.6400\n",
            "2020-08-17 14:58:32,567 - mmdet - INFO - Epoch [1][400/14763]\tlr: 3.996e-03, eta: 16 days, 18:39:06, time: 3.257, data_time: 0.007, memory: 8404, loss_rpn_cls: 0.1881, loss_rpn_bbox: 0.0924, loss_cls: 0.2422, acc: 91.6797, loss_bbox: 0.2450, loss: 0.7677\n",
            "2020-08-17 15:01:14,479 - mmdet - INFO - Epoch [1][450/14763]\tlr: 4.496e-03, eta: 16 days, 18:05:31, time: 3.238, data_time: 0.007, memory: 8404, loss_rpn_cls: 0.1786, loss_rpn_bbox: 0.0766, loss_cls: 0.2115, acc: 92.5586, loss_bbox: 0.2311, loss: 0.6978\n",
            "2020-08-17 15:03:55,595 - mmdet - INFO - Epoch [1][500/14763]\tlr: 4.995e-03, eta: 16 days, 17:26:23, time: 3.222, data_time: 0.007, memory: 8404, loss_rpn_cls: 0.1603, loss_rpn_bbox: 0.0744, loss_cls: 0.2184, acc: 92.1191, loss_bbox: 0.2439, loss: 0.6969\n",
            "2020-08-17 15:06:37,003 - mmdet - INFO - Epoch [1][550/14763]\tlr: 5.495e-03, eta: 16 days, 16:57:47, time: 3.228, data_time: 0.007, memory: 8404, loss_rpn_cls: 0.1761, loss_rpn_bbox: 0.0828, loss_cls: 0.2122, acc: 92.0273, loss_bbox: 0.2773, loss: 0.7485\n",
            "2020-08-17 15:09:18,040 - mmdet - INFO - Epoch [1][600/14763]\tlr: 5.994e-03, eta: 16 days, 16:28:57, time: 3.221, data_time: 0.008, memory: 8404, loss_rpn_cls: 0.1648, loss_rpn_bbox: 0.0810, loss_cls: 0.2097, acc: 91.8711, loss_bbox: 0.2963, loss: 0.7519\n",
            "2020-08-17 15:11:59,552 - mmdet - INFO - Epoch [1][650/14763]\tlr: 6.494e-03, eta: 16 days, 16:09:30, time: 3.230, data_time: 0.007, memory: 8404, loss_rpn_cls: 0.1372, loss_rpn_bbox: 0.0723, loss_cls: 0.2049, acc: 92.3320, loss_bbox: 0.2810, loss: 0.6955\n",
            "2020-08-17 15:14:40,674 - mmdet - INFO - Epoch [1][700/14763]\tlr: 6.993e-03, eta: 16 days, 15:48:21, time: 3.222, data_time: 0.007, memory: 8404, loss_rpn_cls: 0.1399, loss_rpn_bbox: 0.0778, loss_cls: 0.2233, acc: 91.6133, loss_bbox: 0.2868, loss: 0.7278\n",
            "2020-08-17 15:17:21,919 - mmdet - INFO - Epoch [1][750/14763]\tlr: 7.493e-03, eta: 16 days, 15:30:53, time: 3.225, data_time: 0.007, memory: 8404, loss_rpn_cls: 0.1277, loss_rpn_bbox: 0.0710, loss_cls: 0.2058, acc: 92.1816, loss_bbox: 0.2949, loss: 0.6995\n",
            "2020-08-17 15:20:03,576 - mmdet - INFO - Epoch [1][800/14763]\tlr: 7.992e-03, eta: 16 days, 15:19:03, time: 3.233, data_time: 0.007, memory: 8404, loss_rpn_cls: 0.1258, loss_rpn_bbox: 0.0738, loss_cls: 0.1896, acc: 92.6543, loss_bbox: 0.2799, loss: 0.6691\n",
            "2020-08-17 15:22:44,517 - mmdet - INFO - Epoch [1][850/14763]\tlr: 8.492e-03, eta: 16 days, 15:02:05, time: 3.219, data_time: 0.007, memory: 8404, loss_rpn_cls: 0.1247, loss_rpn_bbox: 0.0761, loss_cls: 0.1965, acc: 92.1875, loss_bbox: 0.3021, loss: 0.6994\n",
            "2020-08-17 15:25:26,187 - mmdet - INFO - Epoch [1][900/14763]\tlr: 8.991e-03, eta: 16 days, 14:52:42, time: 3.233, data_time: 0.007, memory: 8404, loss_rpn_cls: 0.1264, loss_rpn_bbox: 0.0715, loss_cls: 0.1872, acc: 92.7520, loss_bbox: 0.3011, loss: 0.6862\n",
            "2020-08-17 15:28:07,254 - mmdet - INFO - Epoch [1][950/14763]\tlr: 9.491e-03, eta: 16 days, 14:39:18, time: 3.221, data_time: 0.007, memory: 8404, loss_rpn_cls: 0.1245, loss_rpn_bbox: 0.0773, loss_cls: 0.1975, acc: 92.5586, loss_bbox: 0.2948, loss: 0.6941\n",
            "2020-08-17 15:30:48,705 - mmdet - INFO - Epoch [1][1000/14763]\tlr: 9.990e-03, eta: 16 days, 14:29:49, time: 3.229, data_time: 0.007, memory: 8404, loss_rpn_cls: 0.1051, loss_rpn_bbox: 0.0665, loss_cls: 0.1880, acc: 92.6484, loss_bbox: 0.3079, loss: 0.6674\n",
            "2020-08-17 15:33:30,016 - mmdet - INFO - Epoch [1][1050/14763]\tlr: 1.000e-02, eta: 16 days, 14:20:00, time: 3.226, data_time: 0.007, memory: 8404, loss_rpn_cls: 0.1093, loss_rpn_bbox: 0.0747, loss_cls: 0.1919, acc: 92.2539, loss_bbox: 0.3104, loss: 0.6864\n",
            "2020-08-17 15:36:11,438 - mmdet - INFO - Epoch [1][1100/14763]\tlr: 1.000e-02, eta: 16 days, 14:11:34, time: 3.228, data_time: 0.007, memory: 8404, loss_rpn_cls: 0.1071, loss_rpn_bbox: 0.0688, loss_cls: 0.1977, acc: 92.2441, loss_bbox: 0.3093, loss: 0.6829\n",
            "2020-08-17 15:38:52,697 - mmdet - INFO - Epoch [1][1150/14763]\tlr: 1.000e-02, eta: 16 days, 14:02:36, time: 3.225, data_time: 0.007, memory: 8404, loss_rpn_cls: 0.1117, loss_rpn_bbox: 0.0748, loss_cls: 0.2033, acc: 91.8066, loss_bbox: 0.3490, loss: 0.7387\n",
            "2020-08-17 15:41:34,353 - mmdet - INFO - Epoch [1][1200/14763]\tlr: 1.000e-02, eta: 16 days, 13:56:35, time: 3.233, data_time: 0.007, memory: 8404, loss_rpn_cls: 0.1050, loss_rpn_bbox: 0.0664, loss_cls: 0.1827, acc: 92.7109, loss_bbox: 0.3205, loss: 0.6746\n",
            "2020-08-17 15:44:15,424 - mmdet - INFO - Epoch [1][1250/14763]\tlr: 1.000e-02, eta: 16 days, 13:47:24, time: 3.221, data_time: 0.007, memory: 8404, loss_rpn_cls: 0.1057, loss_rpn_bbox: 0.0718, loss_cls: 0.2019, acc: 92.0996, loss_bbox: 0.3385, loss: 0.7179\n",
            "2020-08-17 15:46:56,685 - mmdet - INFO - Epoch [1][1300/14763]\tlr: 1.000e-02, eta: 16 days, 13:39:47, time: 3.225, data_time: 0.007, memory: 8404, loss_rpn_cls: 0.1026, loss_rpn_bbox: 0.0797, loss_cls: 0.1977, acc: 92.1113, loss_bbox: 0.3540, loss: 0.7341\n",
            "2020-08-17 15:49:38,296 - mmdet - INFO - Epoch [1][1350/14763]\tlr: 1.000e-02, eta: 16 days, 13:34:27, time: 3.232, data_time: 0.007, memory: 8404, loss_rpn_cls: 0.0969, loss_rpn_bbox: 0.0690, loss_cls: 0.1830, acc: 92.5391, loss_bbox: 0.3273, loss: 0.6762\n",
            "2020-08-17 15:52:19,491 - mmdet - INFO - Epoch [1][1400/14763]\tlr: 1.000e-02, eta: 16 days, 13:27:06, time: 3.224, data_time: 0.007, memory: 8404, loss_rpn_cls: 0.0945, loss_rpn_bbox: 0.0697, loss_cls: 0.1803, acc: 92.6191, loss_bbox: 0.3389, loss: 0.6834\n",
            "2020-08-17 15:55:00,733 - mmdet - INFO - Epoch [1][1450/14763]\tlr: 1.000e-02, eta: 16 days, 13:20:19, time: 3.225, data_time: 0.007, memory: 8404, loss_rpn_cls: 0.0854, loss_rpn_bbox: 0.0652, loss_cls: 0.1867, acc: 92.4941, loss_bbox: 0.3445, loss: 0.6817\n",
            "2020-08-17 15:57:43,347 - mmdet - INFO - Epoch [1][1500/14763]\tlr: 1.000e-02, eta: 16 days, 13:20:33, time: 3.252, data_time: 0.007, memory: 8404, loss_rpn_cls: 0.0819, loss_rpn_bbox: 0.0713, loss_cls: 0.1838, acc: 92.4590, loss_bbox: 0.3398, loss: 0.6768\n",
            "2020-08-17 16:00:25,933 - mmdet - INFO - Epoch [1][1550/14763]\tlr: 1.000e-02, eta: 16 days, 13:20:27, time: 3.252, data_time: 0.007, memory: 8404, loss_rpn_cls: 0.0899, loss_rpn_bbox: 0.0711, loss_cls: 0.1822, acc: 92.7520, loss_bbox: 0.3411, loss: 0.6842\n",
            "2020-08-17 16:03:08,607 - mmdet - INFO - Epoch [1][1600/14763]\tlr: 1.000e-02, eta: 16 days, 13:20:35, time: 3.253, data_time: 0.007, memory: 8404, loss_rpn_cls: 0.1005, loss_rpn_bbox: 0.0729, loss_cls: 0.1913, acc: 92.2852, loss_bbox: 0.3492, loss: 0.7139\n",
            "2020-08-17 16:05:50,520 - mmdet - INFO - Epoch [1][1650/14763]\tlr: 1.000e-02, eta: 16 days, 13:17:10, time: 3.238, data_time: 0.007, memory: 8404, loss_rpn_cls: 0.0890, loss_rpn_bbox: 0.0721, loss_cls: 0.1876, acc: 92.4219, loss_bbox: 0.3538, loss: 0.7026\n"
          ],
          "name": "stdout"
        }
      ]
    },
    {
      "cell_type": "code",
      "metadata": {
        "id": "tQoYSmMK030g",
        "colab": {
          "base_uri": "https://localhost:8080/",
          "height": 353
        },
        "outputId": "5a2df37e-04a1-4bd1-e220-c03161573b2d"
      },
      "source": [
        "!nvidia-smi"
      ],
      "execution_count": null,
      "outputs": [
        {
          "output_type": "stream",
          "text": [
            "Mon Aug 17 14:29:54 2020       \n",
            "+-----------------------------------------------------------------------------+\n",
            "| NVIDIA-SMI 450.57       Driver Version: 418.67       CUDA Version: 10.1     |\n",
            "|-------------------------------+----------------------+----------------------+\n",
            "| GPU  Name        Persistence-M| Bus-Id        Disp.A | Volatile Uncorr. ECC |\n",
            "| Fan  Temp  Perf  Pwr:Usage/Cap|         Memory-Usage | GPU-Util  Compute M. |\n",
            "|                               |                      |               MIG M. |\n",
            "|===============================+======================+======================|\n",
            "|   0  Tesla K80           Off  | 00000000:00:04.0 Off |                    0 |\n",
            "| N/A   36C    P8    25W / 149W |      0MiB / 11441MiB |      0%      Default |\n",
            "|                               |                      |                 ERR! |\n",
            "+-------------------------------+----------------------+----------------------+\n",
            "                                                                               \n",
            "+-----------------------------------------------------------------------------+\n",
            "| Processes:                                                                  |\n",
            "|  GPU   GI   CI        PID   Type   Process name                  GPU Memory |\n",
            "|        ID   ID                                                   Usage      |\n",
            "|=============================================================================|\n",
            "|  No running processes found                                                 |\n",
            "+-----------------------------------------------------------------------------+\n"
          ],
          "name": "stdout"
        }
      ]
    }
  ]
}