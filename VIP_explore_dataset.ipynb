{
  "nbformat": 4,
  "nbformat_minor": 0,
  "metadata": {
    "colab": {
      "name": "VIP_explore_dataset.ipynb",
      "provenance": []
    },
    "kernelspec": {
      "name": "python3",
      "display_name": "Python 3"
    },
    "accelerator": "GPU"
  },
  "cells": [
    {
      "cell_type": "code",
      "metadata": {
        "id": "hYNCDBoN28GY",
        "colab": {
          "base_uri": "https://localhost:8080/",
          "height": 34
        },
        "outputId": "6e89a72a-4a97-4a3e-eb07-09c379403c0e"
      },
      "source": [
        "import os\n",
        "os.chdir('/content/drive/My Drive/VIP_Cup_All_Materials/Dataset/labels/train/')\n",
        "l = os.listdir('/content/drive/My Drive/VIP_Cup_All_Materials/Dataset/labels/train/')\n",
        "\n",
        "print(len(l))\n"
      ],
      "execution_count": null,
      "outputs": [
        {
          "output_type": "stream",
          "text": [
            "20373\n"
          ],
          "name": "stdout"
        }
      ]
    },
    {
      "cell_type": "code",
      "metadata": {
        "id": "UEto_elBDqUy"
      },
      "source": [
        "l1 = os.listdir('/content/drive/My Drive/VIP_Cup_All_Materials/Dataset/images/train/')\n",
        "print(len(l1))"
      ],
      "execution_count": null,
      "outputs": []
    },
    {
      "cell_type": "code",
      "metadata": {
        "id": "fus2ydNe3OZc"
      },
      "source": [
        "missing_files = 0\n",
        "for i in range(len(l)):\n",
        "    name, _ = l[i].split('.')\n",
        "    image_file = '/content/drive/My Drive/VIP_Cup_All_Materials/Dataset/images/train/'+name+'.jpg'\n",
        "    if os.path.isfile(image_file):\n",
        "        print('')\n",
        "    else:\n",
        "        print(name)\n",
        "        missing_files +=1\n",
        "print(missing_files) \n"
      ],
      "execution_count": null,
      "outputs": []
    },
    {
      "cell_type": "code",
      "metadata": {
        "id": "upLTlZUK7aow"
      },
      "source": [
        "import PIL\n",
        "from PIL import Image\n",
        "import matplotlib.pyplot as plt\n",
        "\n",
        "import cv2\n",
        "from google.colab.patches import cv2_imshow\n",
        "img = cv2.imread(image_file)\n",
        "cv2_imshow(img)"
      ],
      "execution_count": null,
      "outputs": []
    },
    {
      "cell_type": "code",
      "metadata": {
        "id": "EsftAQjp93l5"
      },
      "source": [
        "import pickle\n",
        "with open('/content/drive/My Drive/Classroom/image_names.txt', 'rb') as f:\n",
        "    l = pickle.load(f)\n",
        "\n",
        "f.close()\n",
        "print(l[0])"
      ],
      "execution_count": null,
      "outputs": []
    },
    {
      "cell_type": "code",
      "metadata": {
        "id": "9L2o0Y8QeVcO"
      },
      "source": [
        "#creating a scatter plot of the width and heights of bounding boxes\n",
        "from tqdm import tqdm\n",
        "import numpy as np\n",
        "array = np.loadtxt('/content/drive/My Drive/VIP_Cup_All_Materials/Dataset/labels/train/'+l[0])[:, 3:]\n",
        "for i in tqdm(range(1, len(l))):\n",
        "    array = np.concatenate([array, np.loadtxt('/content/drive/My Drive/VIP_Cup_All_Materials/Dataset/labels/train/'+l[i])[:, 3:]])\n"
      ],
      "execution_count": null,
      "outputs": []
    },
    {
      "cell_type": "code",
      "metadata": {
        "id": "CstzzeU4wrcQ",
        "colab": {
          "base_uri": "https://localhost:8080/",
          "height": 34
        },
        "outputId": "c808e6d3-9ff1-4156-d678-561eabe1f9b8"
      },
      "source": [
        "array.shape"
      ],
      "execution_count": null,
      "outputs": [
        {
          "output_type": "execute_result",
          "data": {
            "text/plain": [
              "(113003, 2)"
            ]
          },
          "metadata": {
            "tags": []
          },
          "execution_count": 3
        }
      ]
    },
    {
      "cell_type": "code",
      "metadata": {
        "id": "zbyKO2evyAiU"
      },
      "source": [
        "import pickle\n",
        "\n",
        "with open('/content/drive/My Drive/Classroom/wh_training_samples.txt', 'wb') as p:\n",
        "    pickle.dump(p, array)"
      ],
      "execution_count": null,
      "outputs": []
    },
    {
      "cell_type": "code",
      "metadata": {
        "id": "U0784Pohyg6A"
      },
      "source": [
        "#plotting the scatter\n",
        "\n",
        "width = array[:, 0]\n",
        "height = array[:, 1]\n",
        "\n",
        "import matplotlib.pyplot as plt\n",
        "plt.figure(figsize = (15, 8))\n",
        "plt.scatter(width, height)\n",
        "plt.savefig('/content/drive/My Drive/Classroom/center_plot.png')"
      ],
      "execution_count": null,
      "outputs": []
    },
    {
      "cell_type": "code",
      "metadata": {
        "id": "bW-kwJup2oYX"
      },
      "source": [
        "from sklearn.cluster import KMeans\n",
        "\n",
        "kmeans_model = KMeans(n_clusters=5).fit(array)\n",
        "centers = np.array(kmeans_model.cluster_centers_)\n",
        "np.savetxt('/content/drive/My Drive/Classroom/centers.txt', centers)\n",
        "print(centers)"
      ],
      "execution_count": null,
      "outputs": []
    },
    {
      "cell_type": "code",
      "metadata": {
        "id": "bkhYoEVHhDTU"
      },
      "source": [
        "import zipfile\n",
        "\n",
        "zip_path = '/content/drive/My Drive/fisheye-day-30062020.zip'\n",
        "target_path= '/content/drive/My Drive/VIP CUP dataset/'\n",
        "\n",
        "with zipfile.ZipFile(zip_path, 'r') as zip_ref:\n",
        "    zip_ref.extractall(target_path)"
      ],
      "execution_count": null,
      "outputs": []
    },
    {
      "cell_type": "code",
      "metadata": {
        "id": "LcKQGnrDkCmS"
      },
      "source": [
        "import os\n",
        "os.chdir('/content/drive/My Drive/VIP CUP dataset/fisheye-day-30062020/labels/train')\n",
        "l = os.listdir('/content/drive/My Drive/VIP CUP dataset/fisheye-day-30062020/labels/train')\n",
        "print(len(l))"
      ],
      "execution_count": null,
      "outputs": []
    },
    {
      "cell_type": "code",
      "metadata": {
        "id": "6GZXP_WPs5hs"
      },
      "source": [
        "import numpy as np\n",
        "from tqdm import tqdm\n",
        "\n",
        "empty = []\n",
        "misclass = []\n",
        "path = '/content/drive/My Drive/VIP CUP dataset/fisheye-day-30062020/labels/train/'\n",
        "for i in tqdm(range(len(l))):\n",
        "    array = np.loadtxt(path + l[i])\n",
        "    if array.size == 0:\n",
        "        empty.append(l[i])\n",
        "    if (array.ndim==1 and array[0]!= 0):\n",
        "        misclass.append(l[i])\n",
        "    if (array.ndim >1) and (np.sum(array, axis = 0)[0] != 0):\n",
        "        misclass.append(l[i])\n",
        "print(misclass)\n",
        "print('\\n')\n",
        "print(empty)"
      ],
      "execution_count": null,
      "outputs": []
    },
    {
      "cell_type": "code",
      "metadata": {
        "id": "SnbETBwBda50",
        "colab": {
          "base_uri": "https://localhost:8080/"
        },
        "outputId": "3a7cdc4e-4f8e-42a6-e02e-586b65e1daee"
      },
      "source": [
        "print('hellow world')"
      ],
      "execution_count": null,
      "outputs": [
        {
          "output_type": "stream",
          "text": [
            "hellow world\n"
          ],
          "name": "stdout"
        }
      ]
    }
  ]
}