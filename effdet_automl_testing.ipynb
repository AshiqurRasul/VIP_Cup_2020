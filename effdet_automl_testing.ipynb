{
  "nbformat": 4,
  "nbformat_minor": 0,
  "metadata": {
    "colab": {
      "name": "effdet_automl_testing.ipynb",
      "provenance": []
    },
    "kernelspec": {
      "name": "python3",
      "display_name": "Python 3"
    },
    "accelerator": "TPU"
  },
  "cells": [
    {
      "cell_type": "code",
      "metadata": {
        "id": "Gig_ZlcwRIiO"
      },
      "source": [
        "%cp '/content/drive/My Drive/ICIP2020-fisheye-dataset-30072020.zip' '/content'"
      ],
      "execution_count": null,
      "outputs": []
    },
    {
      "cell_type": "code",
      "metadata": {
        "id": "FYUCfNJkRtv5"
      },
      "source": [
        "from zipfile import ZipFile\n",
        "\n",
        "with ZipFile('/content/ICIP2020-fisheye-dataset-30072020.zip', 'r') as zip_ref:\n",
        "    zip_ref.extractall()"
      ],
      "execution_count": null,
      "outputs": []
    },
    {
      "cell_type": "code",
      "metadata": {
        "id": "Ut85CuAYRwl-"
      },
      "source": [
        "import os\n",
        "\n",
        "os.mkdir('/content/vip data')\n",
        "os.mkdir('/content/vip data/train')\n",
        "os.mkdir('/content/vip data/test')\n",
        "\n",
        "os.mkdir('/content/vip data/train/images')\n",
        "os.mkdir('/content/vip data/train/labels')\n",
        "\n",
        "os.mkdir('/content/vip data/test/images')\n",
        "os.mkdir('/content/vip data/test/labels')"
      ],
      "execution_count": null,
      "outputs": []
    },
    {
      "cell_type": "code",
      "metadata": {
        "id": "bDNvw-XHRzDO",
        "colab": {
          "base_uri": "https://localhost:8080/",
          "height": 84
        },
        "outputId": "6d7cdf9c-2b5a-4ae4-e62d-876326e9d955"
      },
      "source": [
        "from tqdm import tqdm\n",
        "import shutil\n",
        "\n",
        "folder_list = ['/content/fisheye-day-30072020', '/content/fisheye-day-test-30072020', '/content/fisheye-night-30072020', '/content/fisheye-night-test-30072020']\n",
        "\n",
        "for p in folder_list:\n",
        "    if p == '/content/fisheye-day-30072020':\n",
        "        img_source_path = '/content/fisheye-day-30072020/images/train'\n",
        "        label_source_path = '/content/fisheye-day-30072020/labels/train'\n",
        "    else:\n",
        "        img_source_path = os.path.join(p, 'images')\n",
        "        label_source_path = os.path.join(p, 'labels')\n",
        "\n",
        "    image_list = os.listdir(img_source_path)\n",
        "    label_list = os.listdir(label_source_path)\n",
        "    if 'test' in p:\n",
        "        dest_root = '/content/vip data/test'\n",
        "    else:\n",
        "        dest_root = '/content/vip data/train'\n",
        "\n",
        "    for i in tqdm(range(len(image_list))):\n",
        "\n",
        "        image_path = os.path.join(img_source_path, image_list[i])\n",
        "        label_path = os.path.join(label_source_path, label_list[i])\n",
        "\n",
        "        img_dest_path = os.path.join(dest_root,'images',image_list[i])\n",
        "        label_dest_path = os.path.join(dest_root, 'labels', label_list[i])\n",
        "\n",
        "        shutil.move(image_path, img_dest_path)\n",
        "        shutil.move(label_path, label_dest_path)"
      ],
      "execution_count": null,
      "outputs": [
        {
          "output_type": "stream",
          "text": [
            "100%|██████████| 20323/20323 [00:01<00:00, 13781.43it/s]\n",
            "100%|██████████| 1660/1660 [00:00<00:00, 14969.22it/s]\n",
            "100%|██████████| 9436/9436 [00:00<00:00, 14609.02it/s]\n",
            "100%|██████████| 1166/1166 [00:00<00:00, 15704.36it/s]\n"
          ],
          "name": "stderr"
        }
      ]
    },
    {
      "cell_type": "code",
      "metadata": {
        "id": "gQKd9Q-ISX8f"
      },
      "source": [
        "%%capture\n",
        "!python3 coco_annotation_generator.py --image_source_path '/content/vip data/train/images' --label_source_path '/content/vip data/train/labels' --save_path '/content' --file_name 'coco_annotation_train.json' --library 'detectron'"
      ],
      "execution_count": null,
      "outputs": []
    },
    {
      "cell_type": "code",
      "metadata": {
        "id": "3FM9dBr7Tnu2"
      },
      "source": [
        "%%capture\n",
        "!python3 coco_annotation_generator.py --image_source_path '/content/vip data/test/images' --label_source_path '/content/vip data/test/labels' --save_path '/content' --file_name 'coco_annotation_test.json' --library 'detectron'"
      ],
      "execution_count": null,
      "outputs": []
    },
    {
      "cell_type": "code",
      "metadata": {
        "id": "I3f6URIVW0_b"
      },
      "source": [
        "%%capture\n",
        "import os\n",
        "import sys\n",
        "import tensorflow.compat.v1 as tf\n",
        "\n",
        "# Download source code.\n",
        "if \"efficientdet\" not in os.getcwd():\n",
        "  !git clone --depth 1 https://github.com/google/automl\n",
        "  os.chdir('automl/efficientdet')\n",
        "  sys.path.append('.')\n",
        "  !pip install -r requirements.txt\n",
        "  !pip install -U 'git+https://github.com/cocodataset/cocoapi.git#subdirectory=PythonAPI'\n",
        "else:\n",
        "  !git pull"
      ],
      "execution_count": null,
      "outputs": []
    },
    {
      "cell_type": "code",
      "metadata": {
        "id": "uQTZFW2xLF_E",
        "colab": {
          "base_uri": "https://localhost:8080/",
          "height": 33
        },
        "outputId": "ba9dedad-82c1-415b-95b1-73901eb162c8"
      },
      "source": [
        "%cd /content/automl/efficientdet"
      ],
      "execution_count": null,
      "outputs": [
        {
          "output_type": "stream",
          "text": [
            "/content\n"
          ],
          "name": "stdout"
        }
      ]
    },
    {
      "cell_type": "code",
      "metadata": {
        "id": "1oTNazTXW3XR"
      },
      "source": [
        "!mkdir tfrecord"
      ],
      "execution_count": null,
      "outputs": []
    },
    {
      "cell_type": "code",
      "metadata": {
        "id": "I_mxqrCaAj_M",
        "colab": {
          "base_uri": "https://localhost:8080/",
          "height": 585
        },
        "outputId": "537f0719-a9ab-4b4a-8c88-f773908f3037"
      },
      "source": [
        "!PYTHONPATH=\".:$PYTHONPATH\"  python dataset/create_coco_tfrecord.py --image_dir='/content/vip data/test/images'  --object_annotations_file='/content/coco_annotation_test.json' --output_file_prefix='/content/tfrecord/test' --num_shards=3"
      ],
      "execution_count": null,
      "outputs": [
        {
          "output_type": "stream",
          "text": [
            "2020-08-14 14:14:47.614721: I tensorflow/stream_executor/platform/default/dso_loader.cc:48] Successfully opened dynamic library libcudart.so.10.1\n",
            "I0814 14:14:49.518520 140533173766016 create_coco_tfrecord.py:291] writing to output path: /content/tfrecord/test\n",
            "I0814 14:14:49.947184 140533173766016 create_coco_tfrecord.py:221] Building bounding box index.\n",
            "I0814 14:14:49.952937 140533173766016 create_coco_tfrecord.py:232] 0 images are missing bboxes.\n",
            "I0814 14:14:50.023822 140533173766016 create_coco_tfrecord.py:329] On image 0 of 2826\n",
            "I0814 14:14:50.408060 140533173766016 create_coco_tfrecord.py:329] On image 100 of 2826\n",
            "I0814 14:14:50.815101 140533173766016 create_coco_tfrecord.py:329] On image 200 of 2826\n",
            "I0814 14:14:51.228807 140533173766016 create_coco_tfrecord.py:329] On image 300 of 2826\n",
            "I0814 14:14:51.820558 140533173766016 create_coco_tfrecord.py:329] On image 400 of 2826\n",
            "I0814 14:14:52.733640 140533173766016 create_coco_tfrecord.py:329] On image 500 of 2826\n",
            "I0814 14:14:53.124217 140533173766016 create_coco_tfrecord.py:329] On image 600 of 2826\n",
            "I0814 14:14:53.493120 140533173766016 create_coco_tfrecord.py:329] On image 700 of 2826\n",
            "I0814 14:14:53.959018 140533173766016 create_coco_tfrecord.py:329] On image 800 of 2826\n",
            "I0814 14:14:54.412027 140533173766016 create_coco_tfrecord.py:329] On image 900 of 2826\n",
            "I0814 14:14:54.824444 140533173766016 create_coco_tfrecord.py:329] On image 1000 of 2826\n",
            "I0814 14:14:55.230536 140533173766016 create_coco_tfrecord.py:329] On image 1100 of 2826\n",
            "I0814 14:14:55.669113 140533173766016 create_coco_tfrecord.py:329] On image 1200 of 2826\n",
            "I0814 14:14:56.099115 140533173766016 create_coco_tfrecord.py:329] On image 1300 of 2826\n",
            "I0814 14:14:56.453305 140533173766016 create_coco_tfrecord.py:329] On image 1400 of 2826\n",
            "I0814 14:14:56.893028 140533173766016 create_coco_tfrecord.py:329] On image 1500 of 2826\n",
            "I0814 14:14:57.403922 140533173766016 create_coco_tfrecord.py:329] On image 1600 of 2826\n",
            "I0814 14:14:57.794324 140533173766016 create_coco_tfrecord.py:329] On image 1700 of 2826\n",
            "I0814 14:14:58.290514 140533173766016 create_coco_tfrecord.py:329] On image 1800 of 2826\n",
            "I0814 14:14:58.695096 140533173766016 create_coco_tfrecord.py:329] On image 1900 of 2826\n",
            "I0814 14:14:59.100781 140533173766016 create_coco_tfrecord.py:329] On image 2000 of 2826\n",
            "I0814 14:14:59.458930 140533173766016 create_coco_tfrecord.py:329] On image 2100 of 2826\n",
            "I0814 14:14:59.827410 140533173766016 create_coco_tfrecord.py:329] On image 2200 of 2826\n",
            "I0814 14:15:00.326208 140533173766016 create_coco_tfrecord.py:329] On image 2300 of 2826\n",
            "I0814 14:15:00.761909 140533173766016 create_coco_tfrecord.py:329] On image 2400 of 2826\n",
            "I0814 14:15:01.149960 140533173766016 create_coco_tfrecord.py:329] On image 2500 of 2826\n",
            "I0814 14:15:01.496476 140533173766016 create_coco_tfrecord.py:329] On image 2600 of 2826\n",
            "I0814 14:15:02.461520 140533173766016 create_coco_tfrecord.py:329] On image 2700 of 2826\n",
            "I0814 14:15:02.848862 140533173766016 create_coco_tfrecord.py:329] On image 2800 of 2826\n",
            "I0814 14:15:03.075303 140533173766016 create_coco_tfrecord.py:341] Finished writing, skipped 0 annotations.\n"
          ],
          "name": "stdout"
        }
      ]
    },
    {
      "cell_type": "code",
      "metadata": {
        "id": "LICUnDfOX2nK",
        "colab": {
          "base_uri": "https://localhost:8080/",
          "height": 1000
        },
        "outputId": "a1be764e-3073-43e3-b3c5-230f364cbb92"
      },
      "source": [
        "!PYTHONPATH=\".:$PYTHONPATH\" python  dataset/create_coco_tfrecord.py --image_info_file '/content/coco_annotation_train.json' --image_dir '/content/vip data/train/images' --object_annotations_file '/content/coco_annotation_train.json' --num_shards 32 --output_file_prefix '/content/tfrecord/train'"
      ],
      "execution_count": null,
      "outputs": [
        {
          "output_type": "stream",
          "text": [
            "2020-08-14 14:15:06.288809: I tensorflow/stream_executor/platform/default/dso_loader.cc:48] Successfully opened dynamic library libcudart.so.10.1\n",
            "I0814 14:15:07.978984 139636040968064 create_coco_tfrecord.py:291] writing to output path: /content/tfrecord/train\n",
            "I0814 14:15:12.571018 139636040968064 create_coco_tfrecord.py:221] Building bounding box index.\n",
            "I0814 14:15:12.655416 139636040968064 create_coco_tfrecord.py:232] 233 images are missing bboxes.\n",
            "I0814 14:15:12.817003 139636040968064 create_coco_tfrecord.py:329] On image 0 of 29759\n",
            "I0814 14:15:13.830851 139636040968064 create_coco_tfrecord.py:329] On image 100 of 29759\n",
            "I0814 14:15:14.653604 139636040968064 create_coco_tfrecord.py:329] On image 200 of 29759\n",
            "I0814 14:15:15.478034 139636040968064 create_coco_tfrecord.py:329] On image 300 of 29759\n",
            "I0814 14:15:16.438523 139636040968064 create_coco_tfrecord.py:329] On image 400 of 29759\n",
            "I0814 14:15:17.299377 139636040968064 create_coco_tfrecord.py:329] On image 500 of 29759\n",
            "I0814 14:15:18.268376 139636040968064 create_coco_tfrecord.py:329] On image 600 of 29759\n",
            "I0814 14:15:19.037543 139636040968064 create_coco_tfrecord.py:329] On image 700 of 29759\n",
            "I0814 14:15:19.924521 139636040968064 create_coco_tfrecord.py:329] On image 800 of 29759\n",
            "I0814 14:15:21.019528 139636040968064 create_coco_tfrecord.py:329] On image 900 of 29759\n",
            "I0814 14:15:21.929174 139636040968064 create_coco_tfrecord.py:329] On image 1000 of 29759\n",
            "I0814 14:15:22.778041 139636040968064 create_coco_tfrecord.py:329] On image 1100 of 29759\n",
            "I0814 14:15:23.899494 139636040968064 create_coco_tfrecord.py:329] On image 1200 of 29759\n",
            "I0814 14:15:24.919066 139636040968064 create_coco_tfrecord.py:329] On image 1300 of 29759\n",
            "I0814 14:15:25.750345 139636040968064 create_coco_tfrecord.py:329] On image 1400 of 29759\n",
            "I0814 14:15:26.552951 139636040968064 create_coco_tfrecord.py:329] On image 1500 of 29759\n",
            "I0814 14:15:27.337881 139636040968064 create_coco_tfrecord.py:329] On image 1600 of 29759\n",
            "I0814 14:15:28.251970 139636040968064 create_coco_tfrecord.py:329] On image 1700 of 29759\n",
            "I0814 14:15:29.106046 139636040968064 create_coco_tfrecord.py:329] On image 1800 of 29759\n",
            "I0814 14:15:30.015749 139636040968064 create_coco_tfrecord.py:329] On image 1900 of 29759\n",
            "I0814 14:15:30.903509 139636040968064 create_coco_tfrecord.py:329] On image 2000 of 29759\n",
            "I0814 14:15:32.019107 139636040968064 create_coco_tfrecord.py:329] On image 2100 of 29759\n",
            "I0814 14:15:33.204954 139636040968064 create_coco_tfrecord.py:329] On image 2200 of 29759\n",
            "I0814 14:15:34.177304 139636040968064 create_coco_tfrecord.py:329] On image 2300 of 29759\n",
            "I0814 14:15:35.227468 139636040968064 create_coco_tfrecord.py:329] On image 2400 of 29759\n",
            "I0814 14:15:36.282301 139636040968064 create_coco_tfrecord.py:329] On image 2500 of 29759\n",
            "I0814 14:15:37.405089 139636040968064 create_coco_tfrecord.py:329] On image 2600 of 29759\n",
            "I0814 14:15:38.831153 139636040968064 create_coco_tfrecord.py:329] On image 2700 of 29759\n",
            "I0814 14:15:39.941420 139636040968064 create_coco_tfrecord.py:329] On image 2800 of 29759\n",
            "I0814 14:15:41.043783 139636040968064 create_coco_tfrecord.py:329] On image 2900 of 29759\n",
            "I0814 14:15:42.363648 139636040968064 create_coco_tfrecord.py:329] On image 3000 of 29759\n",
            "I0814 14:15:44.149189 139636040968064 create_coco_tfrecord.py:329] On image 3100 of 29759\n",
            "I0814 14:15:45.481048 139636040968064 create_coco_tfrecord.py:329] On image 3200 of 29759\n",
            "I0814 14:15:46.677366 139636040968064 create_coco_tfrecord.py:329] On image 3300 of 29759\n",
            "I0814 14:15:48.338133 139636040968064 create_coco_tfrecord.py:329] On image 3400 of 29759\n",
            "I0814 14:15:49.365925 139636040968064 create_coco_tfrecord.py:329] On image 3500 of 29759\n",
            "I0814 14:15:50.407328 139636040968064 create_coco_tfrecord.py:329] On image 3600 of 29759\n",
            "I0814 14:15:51.350579 139636040968064 create_coco_tfrecord.py:329] On image 3700 of 29759\n",
            "I0814 14:15:52.453518 139636040968064 create_coco_tfrecord.py:329] On image 3800 of 29759\n",
            "I0814 14:15:53.989292 139636040968064 create_coco_tfrecord.py:329] On image 3900 of 29759\n",
            "I0814 14:15:54.832524 139636040968064 create_coco_tfrecord.py:329] On image 4000 of 29759\n",
            "I0814 14:15:55.699283 139636040968064 create_coco_tfrecord.py:329] On image 4100 of 29759\n",
            "I0814 14:15:56.750683 139636040968064 create_coco_tfrecord.py:329] On image 4200 of 29759\n",
            "I0814 14:15:57.790721 139636040968064 create_coco_tfrecord.py:329] On image 4300 of 29759\n",
            "I0814 14:15:59.067777 139636040968064 create_coco_tfrecord.py:329] On image 4400 of 29759\n",
            "I0814 14:16:00.019025 139636040968064 create_coco_tfrecord.py:329] On image 4500 of 29759\n",
            "I0814 14:16:00.971640 139636040968064 create_coco_tfrecord.py:329] On image 4600 of 29759\n",
            "I0814 14:16:02.123551 139636040968064 create_coco_tfrecord.py:329] On image 4700 of 29759\n",
            "I0814 14:16:03.401882 139636040968064 create_coco_tfrecord.py:329] On image 4800 of 29759\n",
            "I0814 14:16:04.355530 139636040968064 create_coco_tfrecord.py:329] On image 4900 of 29759\n",
            "I0814 14:16:05.278749 139636040968064 create_coco_tfrecord.py:329] On image 5000 of 29759\n",
            "I0814 14:16:06.198420 139636040968064 create_coco_tfrecord.py:329] On image 5100 of 29759\n",
            "I0814 14:16:07.329440 139636040968064 create_coco_tfrecord.py:329] On image 5200 of 29759\n",
            "I0814 14:16:08.453750 139636040968064 create_coco_tfrecord.py:329] On image 5300 of 29759\n",
            "I0814 14:16:09.336961 139636040968064 create_coco_tfrecord.py:329] On image 5400 of 29759\n",
            "I0814 14:16:10.130031 139636040968064 create_coco_tfrecord.py:329] On image 5500 of 29759\n",
            "I0814 14:16:10.997795 139636040968064 create_coco_tfrecord.py:329] On image 5600 of 29759\n",
            "I0814 14:16:11.828564 139636040968064 create_coco_tfrecord.py:329] On image 5700 of 29759\n",
            "I0814 14:16:12.694251 139636040968064 create_coco_tfrecord.py:329] On image 5800 of 29759\n",
            "I0814 14:16:13.576575 139636040968064 create_coco_tfrecord.py:329] On image 5900 of 29759\n",
            "I0814 14:16:14.407520 139636040968064 create_coco_tfrecord.py:329] On image 6000 of 29759\n",
            "I0814 14:16:15.260430 139636040968064 create_coco_tfrecord.py:329] On image 6100 of 29759\n",
            "I0814 14:16:16.161979 139636040968064 create_coco_tfrecord.py:329] On image 6200 of 29759\n",
            "I0814 14:16:16.990237 139636040968064 create_coco_tfrecord.py:329] On image 6300 of 29759\n",
            "I0814 14:16:17.809057 139636040968064 create_coco_tfrecord.py:329] On image 6400 of 29759\n",
            "I0814 14:16:18.606019 139636040968064 create_coco_tfrecord.py:329] On image 6500 of 29759\n",
            "I0814 14:16:19.525696 139636040968064 create_coco_tfrecord.py:329] On image 6600 of 29759\n",
            "I0814 14:16:20.395053 139636040968064 create_coco_tfrecord.py:329] On image 6700 of 29759\n",
            "I0814 14:16:21.222152 139636040968064 create_coco_tfrecord.py:329] On image 6800 of 29759\n",
            "I0814 14:16:22.055243 139636040968064 create_coco_tfrecord.py:329] On image 6900 of 29759\n",
            "I0814 14:16:23.281429 139636040968064 create_coco_tfrecord.py:329] On image 7000 of 29759\n",
            "I0814 14:16:24.176688 139636040968064 create_coco_tfrecord.py:329] On image 7100 of 29759\n",
            "I0814 14:16:24.969060 139636040968064 create_coco_tfrecord.py:329] On image 7200 of 29759\n",
            "I0814 14:16:25.745850 139636040968064 create_coco_tfrecord.py:329] On image 7300 of 29759\n",
            "I0814 14:16:26.506322 139636040968064 create_coco_tfrecord.py:329] On image 7400 of 29759\n",
            "I0814 14:16:27.163925 139636040968064 create_coco_tfrecord.py:329] On image 7500 of 29759\n",
            "I0814 14:16:27.784793 139636040968064 create_coco_tfrecord.py:329] On image 7600 of 29759\n",
            "I0814 14:16:28.515159 139636040968064 create_coco_tfrecord.py:329] On image 7700 of 29759\n",
            "I0814 14:16:29.189161 139636040968064 create_coco_tfrecord.py:329] On image 7800 of 29759\n",
            "I0814 14:16:29.861188 139636040968064 create_coco_tfrecord.py:329] On image 7900 of 29759\n",
            "I0814 14:16:30.486391 139636040968064 create_coco_tfrecord.py:329] On image 8000 of 29759\n",
            "I0814 14:16:31.113385 139636040968064 create_coco_tfrecord.py:329] On image 8100 of 29759\n",
            "I0814 14:16:31.706494 139636040968064 create_coco_tfrecord.py:329] On image 8200 of 29759\n",
            "I0814 14:16:32.488001 139636040968064 create_coco_tfrecord.py:329] On image 8300 of 29759\n",
            "I0814 14:16:33.072892 139636040968064 create_coco_tfrecord.py:329] On image 8400 of 29759\n",
            "I0814 14:16:33.689904 139636040968064 create_coco_tfrecord.py:329] On image 8500 of 29759\n",
            "I0814 14:16:34.350704 139636040968064 create_coco_tfrecord.py:329] On image 8600 of 29759\n",
            "I0814 14:16:35.081645 139636040968064 create_coco_tfrecord.py:329] On image 8700 of 29759\n",
            "I0814 14:16:35.745120 139636040968064 create_coco_tfrecord.py:329] On image 8800 of 29759\n",
            "I0814 14:16:36.307958 139636040968064 create_coco_tfrecord.py:329] On image 8900 of 29759\n",
            "I0814 14:16:36.972789 139636040968064 create_coco_tfrecord.py:329] On image 9000 of 29759\n",
            "I0814 14:16:37.611580 139636040968064 create_coco_tfrecord.py:329] On image 9100 of 29759\n",
            "I0814 14:16:38.352778 139636040968064 create_coco_tfrecord.py:329] On image 9200 of 29759\n",
            "I0814 14:16:39.034304 139636040968064 create_coco_tfrecord.py:329] On image 9300 of 29759\n",
            "I0814 14:16:39.680862 139636040968064 create_coco_tfrecord.py:329] On image 9400 of 29759\n",
            "I0814 14:16:40.399654 139636040968064 create_coco_tfrecord.py:329] On image 9500 of 29759\n",
            "I0814 14:16:41.050216 139636040968064 create_coco_tfrecord.py:329] On image 9600 of 29759\n",
            "I0814 14:16:41.650809 139636040968064 create_coco_tfrecord.py:329] On image 9700 of 29759\n",
            "I0814 14:16:42.342890 139636040968064 create_coco_tfrecord.py:329] On image 9800 of 29759\n",
            "I0814 14:16:42.928971 139636040968064 create_coco_tfrecord.py:329] On image 9900 of 29759\n",
            "I0814 14:16:43.744564 139636040968064 create_coco_tfrecord.py:329] On image 10000 of 29759\n",
            "I0814 14:16:44.349140 139636040968064 create_coco_tfrecord.py:329] On image 10100 of 29759\n",
            "I0814 14:16:44.958127 139636040968064 create_coco_tfrecord.py:329] On image 10200 of 29759\n",
            "I0814 14:16:45.657236 139636040968064 create_coco_tfrecord.py:329] On image 10300 of 29759\n",
            "I0814 14:16:46.306400 139636040968064 create_coco_tfrecord.py:329] On image 10400 of 29759\n",
            "I0814 14:16:46.908253 139636040968064 create_coco_tfrecord.py:329] On image 10500 of 29759\n",
            "I0814 14:16:47.529403 139636040968064 create_coco_tfrecord.py:329] On image 10600 of 29759\n",
            "I0814 14:16:48.207045 139636040968064 create_coco_tfrecord.py:329] On image 10700 of 29759\n",
            "I0814 14:16:48.843325 139636040968064 create_coco_tfrecord.py:329] On image 10800 of 29759\n",
            "I0814 14:16:49.463391 139636040968064 create_coco_tfrecord.py:329] On image 10900 of 29759\n",
            "I0814 14:16:50.113327 139636040968064 create_coco_tfrecord.py:329] On image 11000 of 29759\n",
            "I0814 14:16:50.783049 139636040968064 create_coco_tfrecord.py:329] On image 11100 of 29759\n",
            "I0814 14:16:51.405470 139636040968064 create_coco_tfrecord.py:329] On image 11200 of 29759\n",
            "I0814 14:16:52.046654 139636040968064 create_coco_tfrecord.py:329] On image 11300 of 29759\n",
            "I0814 14:16:52.625587 139636040968064 create_coco_tfrecord.py:329] On image 11400 of 29759\n",
            "I0814 14:16:53.273873 139636040968064 create_coco_tfrecord.py:329] On image 11500 of 29759\n",
            "I0814 14:16:53.975455 139636040968064 create_coco_tfrecord.py:329] On image 11600 of 29759\n",
            "I0814 14:16:54.609828 139636040968064 create_coco_tfrecord.py:329] On image 11700 of 29759\n",
            "I0814 14:16:55.256567 139636040968064 create_coco_tfrecord.py:329] On image 11800 of 29759\n",
            "I0814 14:16:55.924237 139636040968064 create_coco_tfrecord.py:329] On image 11900 of 29759\n",
            "I0814 14:16:56.519212 139636040968064 create_coco_tfrecord.py:329] On image 12000 of 29759\n",
            "I0814 14:16:57.161299 139636040968064 create_coco_tfrecord.py:329] On image 12100 of 29759\n",
            "I0814 14:16:57.801498 139636040968064 create_coco_tfrecord.py:329] On image 12200 of 29759\n",
            "I0814 14:16:58.450431 139636040968064 create_coco_tfrecord.py:329] On image 12300 of 29759\n",
            "I0814 14:16:59.139065 139636040968064 create_coco_tfrecord.py:329] On image 12400 of 29759\n",
            "I0814 14:16:59.786683 139636040968064 create_coco_tfrecord.py:329] On image 12500 of 29759\n",
            "I0814 14:17:00.354545 139636040968064 create_coco_tfrecord.py:329] On image 12600 of 29759\n",
            "I0814 14:17:00.960626 139636040968064 create_coco_tfrecord.py:329] On image 12700 of 29759\n",
            "I0814 14:17:01.646022 139636040968064 create_coco_tfrecord.py:329] On image 12800 of 29759\n",
            "I0814 14:17:02.253656 139636040968064 create_coco_tfrecord.py:329] On image 12900 of 29759\n",
            "I0814 14:17:02.889881 139636040968064 create_coco_tfrecord.py:329] On image 13000 of 29759\n",
            "I0814 14:17:03.606482 139636040968064 create_coco_tfrecord.py:329] On image 13100 of 29759\n",
            "I0814 14:17:04.207869 139636040968064 create_coco_tfrecord.py:329] On image 13200 of 29759\n",
            "I0814 14:17:04.914061 139636040968064 create_coco_tfrecord.py:329] On image 13300 of 29759\n",
            "I0814 14:17:05.493719 139636040968064 create_coco_tfrecord.py:329] On image 13400 of 29759\n",
            "I0814 14:17:06.141527 139636040968064 create_coco_tfrecord.py:329] On image 13500 of 29759\n",
            "I0814 14:17:06.803560 139636040968064 create_coco_tfrecord.py:329] On image 13600 of 29759\n",
            "I0814 14:17:07.472966 139636040968064 create_coco_tfrecord.py:329] On image 13700 of 29759\n",
            "I0814 14:17:08.351445 139636040968064 create_coco_tfrecord.py:329] On image 13800 of 29759\n",
            "I0814 14:17:08.988767 139636040968064 create_coco_tfrecord.py:329] On image 13900 of 29759\n",
            "I0814 14:17:09.605057 139636040968064 create_coco_tfrecord.py:329] On image 14000 of 29759\n",
            "I0814 14:17:10.312855 139636040968064 create_coco_tfrecord.py:329] On image 14100 of 29759\n",
            "I0814 14:17:10.956111 139636040968064 create_coco_tfrecord.py:329] On image 14200 of 29759\n",
            "I0814 14:17:11.592710 139636040968064 create_coco_tfrecord.py:329] On image 14300 of 29759\n",
            "I0814 14:17:12.203106 139636040968064 create_coco_tfrecord.py:329] On image 14400 of 29759\n",
            "I0814 14:17:12.832327 139636040968064 create_coco_tfrecord.py:329] On image 14500 of 29759\n",
            "I0814 14:17:13.947212 139636040968064 create_coco_tfrecord.py:329] On image 14600 of 29759\n",
            "I0814 14:17:14.550224 139636040968064 create_coco_tfrecord.py:329] On image 14700 of 29759\n",
            "I0814 14:17:15.181645 139636040968064 create_coco_tfrecord.py:329] On image 14800 of 29759\n",
            "I0814 14:17:15.884887 139636040968064 create_coco_tfrecord.py:329] On image 14900 of 29759\n",
            "I0814 14:17:16.529190 139636040968064 create_coco_tfrecord.py:329] On image 15000 of 29759\n",
            "I0814 14:17:17.143357 139636040968064 create_coco_tfrecord.py:329] On image 15100 of 29759\n",
            "I0814 14:17:17.791707 139636040968064 create_coco_tfrecord.py:329] On image 15200 of 29759\n",
            "I0814 14:17:18.404340 139636040968064 create_coco_tfrecord.py:329] On image 15300 of 29759\n",
            "I0814 14:17:19.125373 139636040968064 create_coco_tfrecord.py:329] On image 15400 of 29759\n",
            "I0814 14:17:19.721538 139636040968064 create_coco_tfrecord.py:329] On image 15500 of 29759\n",
            "I0814 14:17:20.335445 139636040968064 create_coco_tfrecord.py:329] On image 15600 of 29759\n",
            "I0814 14:17:21.038933 139636040968064 create_coco_tfrecord.py:329] On image 15700 of 29759\n",
            "I0814 14:17:21.682890 139636040968064 create_coco_tfrecord.py:329] On image 15800 of 29759\n",
            "I0814 14:17:22.304287 139636040968064 create_coco_tfrecord.py:329] On image 15900 of 29759\n",
            "I0814 14:17:22.917767 139636040968064 create_coco_tfrecord.py:329] On image 16000 of 29759\n",
            "I0814 14:17:23.568130 139636040968064 create_coco_tfrecord.py:329] On image 16100 of 29759\n",
            "I0814 14:17:24.244998 139636040968064 create_coco_tfrecord.py:329] On image 16200 of 29759\n",
            "I0814 14:17:24.903229 139636040968064 create_coco_tfrecord.py:329] On image 16300 of 29759\n",
            "I0814 14:17:25.537391 139636040968064 create_coco_tfrecord.py:329] On image 16400 of 29759\n",
            "I0814 14:17:26.233320 139636040968064 create_coco_tfrecord.py:329] On image 16500 of 29759\n",
            "I0814 14:17:26.901782 139636040968064 create_coco_tfrecord.py:329] On image 16600 of 29759\n",
            "I0814 14:17:27.523426 139636040968064 create_coco_tfrecord.py:329] On image 16700 of 29759\n",
            "I0814 14:17:28.142469 139636040968064 create_coco_tfrecord.py:329] On image 16800 of 29759\n",
            "I0814 14:17:28.746409 139636040968064 create_coco_tfrecord.py:329] On image 16900 of 29759\n",
            "I0814 14:17:29.405211 139636040968064 create_coco_tfrecord.py:329] On image 17000 of 29759\n",
            "I0814 14:17:30.049641 139636040968064 create_coco_tfrecord.py:329] On image 17100 of 29759\n",
            "I0814 14:17:30.729109 139636040968064 create_coco_tfrecord.py:329] On image 17200 of 29759\n",
            "I0814 14:17:31.371826 139636040968064 create_coco_tfrecord.py:329] On image 17300 of 29759\n",
            "I0814 14:17:32.186846 139636040968064 create_coco_tfrecord.py:329] On image 17400 of 29759\n",
            "I0814 14:17:33.017781 139636040968064 create_coco_tfrecord.py:329] On image 17500 of 29759\n",
            "I0814 14:17:33.700535 139636040968064 create_coco_tfrecord.py:329] On image 17600 of 29759\n",
            "I0814 14:17:34.401941 139636040968064 create_coco_tfrecord.py:329] On image 17700 of 29759\n",
            "I0814 14:17:35.145900 139636040968064 create_coco_tfrecord.py:329] On image 17800 of 29759\n",
            "I0814 14:17:35.913282 139636040968064 create_coco_tfrecord.py:329] On image 17900 of 29759\n",
            "I0814 14:17:36.618200 139636040968064 create_coco_tfrecord.py:329] On image 18000 of 29759\n",
            "I0814 14:17:37.271430 139636040968064 create_coco_tfrecord.py:329] On image 18100 of 29759\n",
            "I0814 14:17:37.936398 139636040968064 create_coco_tfrecord.py:329] On image 18200 of 29759\n",
            "I0814 14:17:39.043162 139636040968064 create_coco_tfrecord.py:329] On image 18300 of 29759\n",
            "I0814 14:17:39.657560 139636040968064 create_coco_tfrecord.py:329] On image 18400 of 29759\n",
            "I0814 14:17:40.294607 139636040968064 create_coco_tfrecord.py:329] On image 18500 of 29759\n",
            "I0814 14:17:40.985140 139636040968064 create_coco_tfrecord.py:329] On image 18600 of 29759\n",
            "I0814 14:17:41.594354 139636040968064 create_coco_tfrecord.py:329] On image 18700 of 29759\n",
            "I0814 14:17:42.201167 139636040968064 create_coco_tfrecord.py:329] On image 18800 of 29759\n",
            "I0814 14:17:42.880338 139636040968064 create_coco_tfrecord.py:329] On image 18900 of 29759\n",
            "I0814 14:17:43.512337 139636040968064 create_coco_tfrecord.py:329] On image 19000 of 29759\n",
            "I0814 14:17:44.286811 139636040968064 create_coco_tfrecord.py:329] On image 19100 of 29759\n",
            "I0814 14:17:45.027124 139636040968064 create_coco_tfrecord.py:329] On image 19200 of 29759\n",
            "I0814 14:17:45.638700 139636040968064 create_coco_tfrecord.py:329] On image 19300 of 29759\n",
            "I0814 14:17:46.369386 139636040968064 create_coco_tfrecord.py:329] On image 19400 of 29759\n",
            "I0814 14:17:47.025068 139636040968064 create_coco_tfrecord.py:329] On image 19500 of 29759\n",
            "I0814 14:17:47.686518 139636040968064 create_coco_tfrecord.py:329] On image 19600 of 29759\n",
            "I0814 14:17:48.337738 139636040968064 create_coco_tfrecord.py:329] On image 19700 of 29759\n",
            "I0814 14:17:49.122438 139636040968064 create_coco_tfrecord.py:329] On image 19800 of 29759\n",
            "I0814 14:17:49.763719 139636040968064 create_coco_tfrecord.py:329] On image 19900 of 29759\n",
            "I0814 14:17:50.409454 139636040968064 create_coco_tfrecord.py:329] On image 20000 of 29759\n",
            "I0814 14:17:51.085330 139636040968064 create_coco_tfrecord.py:329] On image 20100 of 29759\n",
            "I0814 14:17:51.803411 139636040968064 create_coco_tfrecord.py:329] On image 20200 of 29759\n",
            "I0814 14:17:52.423411 139636040968064 create_coco_tfrecord.py:329] On image 20300 of 29759\n",
            "I0814 14:17:53.180739 139636040968064 create_coco_tfrecord.py:329] On image 20400 of 29759\n",
            "I0814 14:17:53.864823 139636040968064 create_coco_tfrecord.py:329] On image 20500 of 29759\n",
            "I0814 14:17:54.512125 139636040968064 create_coco_tfrecord.py:329] On image 20600 of 29759\n",
            "I0814 14:17:55.163416 139636040968064 create_coco_tfrecord.py:329] On image 20700 of 29759\n",
            "I0814 14:17:55.776995 139636040968064 create_coco_tfrecord.py:329] On image 20800 of 29759\n",
            "I0814 14:17:56.371930 139636040968064 create_coco_tfrecord.py:329] On image 20900 of 29759\n",
            "I0814 14:17:57.068396 139636040968064 create_coco_tfrecord.py:329] On image 21000 of 29759\n",
            "I0814 14:17:57.694593 139636040968064 create_coco_tfrecord.py:329] On image 21100 of 29759\n",
            "I0814 14:17:58.596880 139636040968064 create_coco_tfrecord.py:329] On image 21200 of 29759\n",
            "I0814 14:17:59.198690 139636040968064 create_coco_tfrecord.py:329] On image 21300 of 29759\n",
            "I0814 14:17:59.809994 139636040968064 create_coco_tfrecord.py:329] On image 21400 of 29759\n",
            "I0814 14:18:00.499914 139636040968064 create_coco_tfrecord.py:329] On image 21500 of 29759\n",
            "I0814 14:18:01.110495 139636040968064 create_coco_tfrecord.py:329] On image 21600 of 29759\n",
            "I0814 14:18:01.794384 139636040968064 create_coco_tfrecord.py:329] On image 21700 of 29759\n",
            "I0814 14:18:02.408105 139636040968064 create_coco_tfrecord.py:329] On image 21800 of 29759\n",
            "I0814 14:18:03.030879 139636040968064 create_coco_tfrecord.py:329] On image 21900 of 29759\n",
            "I0814 14:18:03.703421 139636040968064 create_coco_tfrecord.py:329] On image 22000 of 29759\n",
            "I0814 14:18:04.353531 139636040968064 create_coco_tfrecord.py:329] On image 22100 of 29759\n",
            "I0814 14:18:04.985859 139636040968064 create_coco_tfrecord.py:329] On image 22200 of 29759\n",
            "I0814 14:18:05.679657 139636040968064 create_coco_tfrecord.py:329] On image 22300 of 29759\n",
            "I0814 14:18:06.302605 139636040968064 create_coco_tfrecord.py:329] On image 22400 of 29759\n",
            "I0814 14:18:06.975595 139636040968064 create_coco_tfrecord.py:329] On image 22500 of 29759\n",
            "I0814 14:18:07.619990 139636040968064 create_coco_tfrecord.py:329] On image 22600 of 29759\n",
            "I0814 14:18:08.278215 139636040968064 create_coco_tfrecord.py:329] On image 22700 of 29759\n",
            "I0814 14:18:08.969798 139636040968064 create_coco_tfrecord.py:329] On image 22800 of 29759\n",
            "I0814 14:18:09.616786 139636040968064 create_coco_tfrecord.py:329] On image 22900 of 29759\n",
            "I0814 14:18:10.235567 139636040968064 create_coco_tfrecord.py:329] On image 23000 of 29759\n",
            "I0814 14:18:10.813563 139636040968064 create_coco_tfrecord.py:329] On image 23100 of 29759\n",
            "I0814 14:18:11.504636 139636040968064 create_coco_tfrecord.py:329] On image 23200 of 29759\n",
            "I0814 14:18:12.133499 139636040968064 create_coco_tfrecord.py:329] On image 23300 of 29759\n",
            "I0814 14:18:12.780735 139636040968064 create_coco_tfrecord.py:329] On image 23400 of 29759\n",
            "I0814 14:18:13.389890 139636040968064 create_coco_tfrecord.py:329] On image 23500 of 29759\n",
            "I0814 14:18:14.097414 139636040968064 create_coco_tfrecord.py:329] On image 23600 of 29759\n",
            "I0814 14:18:14.765290 139636040968064 create_coco_tfrecord.py:329] On image 23700 of 29759\n",
            "I0814 14:18:15.414537 139636040968064 create_coco_tfrecord.py:329] On image 23800 of 29759\n",
            "I0814 14:18:16.042105 139636040968064 create_coco_tfrecord.py:329] On image 23900 of 29759\n",
            "I0814 14:18:16.720114 139636040968064 create_coco_tfrecord.py:329] On image 24000 of 29759\n",
            "I0814 14:18:17.390773 139636040968064 create_coco_tfrecord.py:329] On image 24100 of 29759\n",
            "I0814 14:18:18.021860 139636040968064 create_coco_tfrecord.py:329] On image 24200 of 29759\n",
            "I0814 14:18:18.679858 139636040968064 create_coco_tfrecord.py:329] On image 24300 of 29759\n",
            "I0814 14:18:19.412235 139636040968064 create_coco_tfrecord.py:329] On image 24400 of 29759\n",
            "I0814 14:18:20.018155 139636040968064 create_coco_tfrecord.py:329] On image 24500 of 29759\n",
            "I0814 14:18:20.642573 139636040968064 create_coco_tfrecord.py:329] On image 24600 of 29759\n",
            "I0814 14:18:21.282047 139636040968064 create_coco_tfrecord.py:329] On image 24700 of 29759\n",
            "I0814 14:18:22.006863 139636040968064 create_coco_tfrecord.py:329] On image 24800 of 29759\n",
            "I0814 14:18:22.676436 139636040968064 create_coco_tfrecord.py:329] On image 24900 of 29759\n",
            "I0814 14:18:23.293117 139636040968064 create_coco_tfrecord.py:329] On image 25000 of 29759\n",
            "I0814 14:18:23.957582 139636040968064 create_coco_tfrecord.py:329] On image 25100 of 29759\n",
            "I0814 14:18:24.525418 139636040968064 create_coco_tfrecord.py:329] On image 25200 of 29759\n",
            "I0814 14:18:25.179964 139636040968064 create_coco_tfrecord.py:329] On image 25300 of 29759\n",
            "I0814 14:18:25.834386 139636040968064 create_coco_tfrecord.py:329] On image 25400 of 29759\n",
            "I0814 14:18:26.438284 139636040968064 create_coco_tfrecord.py:329] On image 25500 of 29759\n",
            "I0814 14:18:27.099722 139636040968064 create_coco_tfrecord.py:329] On image 25600 of 29759\n",
            "I0814 14:18:27.720434 139636040968064 create_coco_tfrecord.py:329] On image 25700 of 29759\n",
            "I0814 14:18:28.787050 139636040968064 create_coco_tfrecord.py:329] On image 25800 of 29759\n",
            "I0814 14:18:29.377191 139636040968064 create_coco_tfrecord.py:329] On image 25900 of 29759\n",
            "I0814 14:18:30.006776 139636040968064 create_coco_tfrecord.py:329] On image 26000 of 29759\n",
            "I0814 14:18:30.607117 139636040968064 create_coco_tfrecord.py:329] On image 26100 of 29759\n",
            "I0814 14:18:31.312504 139636040968064 create_coco_tfrecord.py:329] On image 26200 of 29759\n",
            "I0814 14:18:31.994487 139636040968064 create_coco_tfrecord.py:329] On image 26300 of 29759\n",
            "I0814 14:18:32.627902 139636040968064 create_coco_tfrecord.py:329] On image 26400 of 29759\n",
            "I0814 14:18:33.230716 139636040968064 create_coco_tfrecord.py:329] On image 26500 of 29759\n",
            "I0814 14:18:33.969361 139636040968064 create_coco_tfrecord.py:329] On image 26600 of 29759\n",
            "I0814 14:18:34.574103 139636040968064 create_coco_tfrecord.py:329] On image 26700 of 29759\n",
            "I0814 14:18:35.220232 139636040968064 create_coco_tfrecord.py:329] On image 26800 of 29759\n",
            "I0814 14:18:35.850517 139636040968064 create_coco_tfrecord.py:329] On image 26900 of 29759\n",
            "I0814 14:18:36.506836 139636040968064 create_coco_tfrecord.py:329] On image 27000 of 29759\n",
            "I0814 14:18:37.197957 139636040968064 create_coco_tfrecord.py:329] On image 27100 of 29759\n",
            "I0814 14:18:37.792599 139636040968064 create_coco_tfrecord.py:329] On image 27200 of 29759\n",
            "I0814 14:18:38.396564 139636040968064 create_coco_tfrecord.py:329] On image 27300 of 29759\n",
            "I0814 14:18:39.089625 139636040968064 create_coco_tfrecord.py:329] On image 27400 of 29759\n",
            "I0814 14:18:39.758822 139636040968064 create_coco_tfrecord.py:329] On image 27500 of 29759\n",
            "I0814 14:18:40.382011 139636040968064 create_coco_tfrecord.py:329] On image 27600 of 29759\n",
            "I0814 14:18:40.974007 139636040968064 create_coco_tfrecord.py:329] On image 27700 of 29759\n",
            "I0814 14:18:41.636800 139636040968064 create_coco_tfrecord.py:329] On image 27800 of 29759\n",
            "I0814 14:18:42.261331 139636040968064 create_coco_tfrecord.py:329] On image 27900 of 29759\n",
            "I0814 14:18:42.889160 139636040968064 create_coco_tfrecord.py:329] On image 28000 of 29759\n",
            "I0814 14:18:43.505193 139636040968064 create_coco_tfrecord.py:329] On image 28100 of 29759\n",
            "I0814 14:18:44.210405 139636040968064 create_coco_tfrecord.py:329] On image 28200 of 29759\n",
            "I0814 14:18:44.810969 139636040968064 create_coco_tfrecord.py:329] On image 28300 of 29759\n",
            "I0814 14:18:45.382767 139636040968064 create_coco_tfrecord.py:329] On image 28400 of 29759\n",
            "I0814 14:18:46.087687 139636040968064 create_coco_tfrecord.py:329] On image 28500 of 29759\n",
            "I0814 14:18:46.742948 139636040968064 create_coco_tfrecord.py:329] On image 28600 of 29759\n",
            "I0814 14:18:47.349747 139636040968064 create_coco_tfrecord.py:329] On image 28700 of 29759\n",
            "I0814 14:18:47.954827 139636040968064 create_coco_tfrecord.py:329] On image 28800 of 29759\n",
            "I0814 14:18:48.672429 139636040968064 create_coco_tfrecord.py:329] On image 28900 of 29759\n",
            "I0814 14:18:49.335412 139636040968064 create_coco_tfrecord.py:329] On image 29000 of 29759\n",
            "I0814 14:18:49.996834 139636040968064 create_coco_tfrecord.py:329] On image 29100 of 29759\n",
            "I0814 14:18:50.604275 139636040968064 create_coco_tfrecord.py:329] On image 29200 of 29759\n",
            "I0814 14:18:51.224979 139636040968064 create_coco_tfrecord.py:329] On image 29300 of 29759\n",
            "I0814 14:18:51.812659 139636040968064 create_coco_tfrecord.py:329] On image 29400 of 29759\n",
            "I0814 14:18:52.551036 139636040968064 create_coco_tfrecord.py:329] On image 29500 of 29759\n",
            "I0814 14:18:53.573942 139636040968064 create_coco_tfrecord.py:329] On image 29600 of 29759\n",
            "I0814 14:18:54.131960 139636040968064 create_coco_tfrecord.py:329] On image 29700 of 29759\n",
            "I0814 14:18:54.558589 139636040968064 create_coco_tfrecord.py:341] Finished writing, skipped 0 annotations.\n"
          ],
          "name": "stdout"
        }
      ]
    },
    {
      "cell_type": "code",
      "metadata": {
        "id": "LABTNqwHN6Wu"
      },
      "source": [
        "MODEL = 'efficientdet-d0'\n",
        "def download(m):\n",
        "  if m not in os.listdir():\n",
        "    !wget https://storage.googleapis.com/cloud-tpu-checkpoints/efficientdet/coco/{m}.tar.gz\n",
        "    !tar zxf {m}.tar.gz\n",
        "  ckpt_path = os.path.join(os.getcwd(), m)\n",
        "  return ckpt_path\n",
        "\n",
        "ckpt_path = download(MODEL)"
      ],
      "execution_count": null,
      "outputs": []
    },
    {
      "cell_type": "code",
      "metadata": {
        "id": "zAT1PL_PVyNe",
        "colab": {
          "base_uri": "https://localhost:8080/",
          "height": 33
        },
        "outputId": "44292a15-f1b0-42e1-e00c-ac2bfe8a61b0"
      },
      "source": [
        "%cd '/content'"
      ],
      "execution_count": null,
      "outputs": [
        {
          "output_type": "stream",
          "text": [
            "/content\n"
          ],
          "name": "stdout"
        }
      ]
    },
    {
      "cell_type": "code",
      "metadata": {
        "id": "pbq7RAQxU3zc",
        "colab": {
          "base_uri": "https://localhost:8080/",
          "height": 201
        },
        "outputId": "6d1d0b84-5b8e-45b9-ce84-0e75fd447a11"
      },
      "source": [
        "!wget https://storage.googleapis.com/cloud-tpu-checkpoints/efficientdet/coco/efficientdet-d0.tar.gz\n",
        "!tar zxf efficientdet-d0.tar.gz"
      ],
      "execution_count": null,
      "outputs": [
        {
          "output_type": "stream",
          "text": [
            "--2020-08-14 14:34:04--  https://storage.googleapis.com/cloud-tpu-checkpoints/efficientdet/coco/efficientdet-d0.tar.gz\n",
            "Resolving storage.googleapis.com (storage.googleapis.com)... 108.177.112.128, 172.217.212.128, 172.217.214.128, ...\n",
            "Connecting to storage.googleapis.com (storage.googleapis.com)|108.177.112.128|:443... connected.\n",
            "HTTP request sent, awaiting response... 200 OK\n",
            "Length: 28994253 (28M) [application/octet-stream]\n",
            "Saving to: ‘efficientdet-d0.tar.gz’\n",
            "\n",
            "efficientdet-d0.tar 100%[===================>]  27.65M  37.1MB/s    in 0.7s    \n",
            "\n",
            "2020-08-14 14:34:05 (37.1 MB/s) - ‘efficientdet-d0.tar.gz’ saved [28994253/28994253]\n",
            "\n"
          ],
          "name": "stdout"
        }
      ]
    },
    {
      "cell_type": "code",
      "metadata": {
        "id": "bAZ7LCiBWdOO",
        "colab": {
          "base_uri": "https://localhost:8080/",
          "height": 33
        },
        "outputId": "df7bf7f8-08d5-449a-df23-8d602583f622"
      },
      "source": [
        "%cd '/content/automl/efficientdet'"
      ],
      "execution_count": null,
      "outputs": [
        {
          "output_type": "stream",
          "text": [
            "/content/automl/efficientdet\n"
          ],
          "name": "stdout"
        }
      ]
    },
    {
      "cell_type": "code",
      "metadata": {
        "id": "hEDnEQftN_wI"
      },
      "source": [
        "!python main.py --mode=eval --model_name=efficientdet-d0  --model_dir='/content/efficientdet-d0' --validation_file_pattern=/content/tfrecord/test*  --val_json_file=/content/coco_annotation_test.json"
      ],
      "execution_count": null,
      "outputs": []
    }
  ]
}